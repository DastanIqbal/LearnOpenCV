{
 "cells": [
  {
   "cell_type": "code",
   "execution_count": 33,
   "id": "ad4c8846",
   "metadata": {},
   "outputs": [],
   "source": [
    "import numpy as np\n",
    "a = np.array(\n",
    "[\n",
    "    [1 , 0 , 1],\n",
    "    [0 , 1 , 0],\n",
    "    [1 , 1 , 1]\n",
    "])"
   ]
  },
  {
   "cell_type": "code",
   "execution_count": 34,
   "id": "c1ed2fe6",
   "metadata": {},
   "outputs": [
    {
     "data": {
      "text/plain": "2"
     },
     "execution_count": 34,
     "metadata": {},
     "output_type": "execute_result"
    }
   ],
   "source": [
    "a.ndim # Number of axis"
   ]
  },
  {
   "cell_type": "code",
   "execution_count": 35,
   "id": "3d7fcfb6",
   "metadata": {},
   "outputs": [
    {
     "data": {
      "text/plain": "(3, 3)"
     },
     "execution_count": 35,
     "metadata": {},
     "output_type": "execute_result"
    }
   ],
   "source": [
    "a.shape"
   ]
  },
  {
   "cell_type": "code",
   "execution_count": 36,
   "id": "258d59be",
   "metadata": {},
   "outputs": [
    {
     "data": {
      "text/plain": "dtype('int64')"
     },
     "execution_count": 36,
     "metadata": {},
     "output_type": "execute_result"
    }
   ],
   "source": [
    "a.dtype"
   ]
  },
  {
   "cell_type": "code",
   "execution_count": 37,
   "id": "0e433cc6",
   "metadata": {},
   "outputs": [
    {
     "data": {
      "text/plain": "array([1, 2, 3])"
     },
     "execution_count": 37,
     "metadata": {},
     "output_type": "execute_result"
    }
   ],
   "source": [
    "np.array([1,2,3]) ## Integer Array"
   ]
  },
  {
   "cell_type": "code",
   "execution_count": 38,
   "id": "2ab11ea4",
   "metadata": {},
   "outputs": [
    {
     "data": {
      "text/plain": "array([1.2, 3.5, 5.1])"
     },
     "execution_count": 38,
     "metadata": {},
     "output_type": "execute_result"
    }
   ],
   "source": [
    "np.array([1.2, 3.5, 5.1]) #float array"
   ]
  },
  {
   "cell_type": "code",
   "execution_count": 39,
   "id": "da427fe1",
   "metadata": {},
   "outputs": [],
   "source": [
    "b = np.array([[1,2,3],[4,5,5]])"
   ]
  },
  {
   "cell_type": "code",
   "execution_count": 40,
   "id": "c6b3bb42",
   "metadata": {},
   "outputs": [
    {
     "data": {
      "text/plain": "2"
     },
     "execution_count": 40,
     "metadata": {},
     "output_type": "execute_result"
    }
   ],
   "source": [
    "b.ndim # 2-d array"
   ]
  },
  {
   "cell_type": "code",
   "execution_count": 41,
   "id": "aeb1b552",
   "metadata": {},
   "outputs": [
    {
     "data": {
      "text/plain": "array([[0., 0., 0., 0.],\n       [0., 0., 0., 0.],\n       [0., 0., 0., 0.]])"
     },
     "execution_count": 41,
     "metadata": {},
     "output_type": "execute_result"
    }
   ],
   "source": [
    "np.zeros((3,4)) #fill with zeros"
   ]
  },
  {
   "cell_type": "code",
   "execution_count": 42,
   "id": "94982840",
   "metadata": {},
   "outputs": [
    {
     "data": {
      "text/plain": "array([[1., 1., 1., 1.],\n       [1., 1., 1., 1.],\n       [1., 1., 1., 1.]])"
     },
     "execution_count": 42,
     "metadata": {},
     "output_type": "execute_result"
    }
   ],
   "source": [
    "np.ones((3,4)) #fill with ones"
   ]
  },
  {
   "cell_type": "code",
   "execution_count": 43,
   "id": "637daf47",
   "metadata": {},
   "outputs": [
    {
     "data": {
      "text/plain": "array([[1., 0., 0., 0., 0.],\n       [0., 1., 0., 0., 0.],\n       [0., 0., 1., 0., 0.],\n       [0., 0., 0., 1., 0.],\n       [0., 0., 0., 0., 1.]])"
     },
     "execution_count": 43,
     "metadata": {},
     "output_type": "execute_result"
    }
   ],
   "source": [
    "np.identity(5) #identity matrix"
   ]
  },
  {
   "cell_type": "code",
   "execution_count": 44,
   "id": "433f9c1c",
   "metadata": {},
   "outputs": [
    {
     "data": {
      "text/plain": "array([0. , 0.6, 1.2, 1.8, 2.4, 3. ])"
     },
     "execution_count": 44,
     "metadata": {},
     "output_type": "execute_result"
    }
   ],
   "source": [
    "np.linspace(0, 3, 6) #6 numbers from 0, 3"
   ]
  },
  {
   "cell_type": "code",
   "execution_count": 45,
   "id": "1bb081b4",
   "metadata": {},
   "outputs": [],
   "source": [
    "a = np.array([1,2,3,4,5])\n",
    "b = np.array([6,7,8,9,10])"
   ]
  },
  {
   "cell_type": "code",
   "execution_count": 46,
   "id": "25074c38",
   "metadata": {},
   "outputs": [
    {
     "data": {
      "text/plain": "array([ 7,  9, 11, 13, 15])"
     },
     "execution_count": 46,
     "metadata": {},
     "output_type": "execute_result"
    }
   ],
   "source": [
    "a + b"
   ]
  },
  {
   "cell_type": "code",
   "execution_count": 47,
   "id": "832529c3",
   "metadata": {},
   "outputs": [
    {
     "data": {
      "text/plain": "array([31, 32, 33, 34, 35])"
     },
     "execution_count": 47,
     "metadata": {},
     "output_type": "execute_result"
    }
   ],
   "source": [
    "a + 30"
   ]
  },
  {
   "cell_type": "code",
   "execution_count": 48,
   "id": "3a8a398a",
   "metadata": {},
   "outputs": [
    {
     "data": {
      "text/plain": "array([ 6, 14, 24, 36, 50])"
     },
     "execution_count": 48,
     "metadata": {},
     "output_type": "execute_result"
    }
   ],
   "source": [
    "a * b"
   ]
  },
  {
   "cell_type": "code",
   "execution_count": 49,
   "id": "ba7d7949",
   "metadata": {},
   "outputs": [
    {
     "data": {
      "text/plain": "array([10, 20, 30, 40, 50])"
     },
     "execution_count": 49,
     "metadata": {},
     "output_type": "execute_result"
    }
   ],
   "source": [
    "a * 10"
   ]
  },
  {
   "cell_type": "code",
   "execution_count": 50,
   "id": "55ace56d",
   "metadata": {},
   "outputs": [
    {
     "data": {
      "text/plain": "130"
     },
     "execution_count": 50,
     "metadata": {},
     "output_type": "execute_result"
    }
   ],
   "source": [
    "a @ b"
   ]
  },
  {
   "cell_type": "code",
   "execution_count": 51,
   "id": "f85b7018",
   "metadata": {},
   "outputs": [],
   "source": [
    "a = np.array([1, 2, 3, 4, 5, 6, 7, 8, 9])"
   ]
  },
  {
   "cell_type": "code",
   "execution_count": 52,
   "id": "448df47e",
   "metadata": {},
   "outputs": [
    {
     "data": {
      "text/plain": "array([1, 2, 3, 4, 5, 6, 7, 8, 9])"
     },
     "execution_count": 52,
     "metadata": {},
     "output_type": "execute_result"
    }
   ],
   "source": [
    "a"
   ]
  },
  {
   "cell_type": "code",
   "execution_count": 53,
   "id": "eaf919c2",
   "metadata": {},
   "outputs": [
    {
     "data": {
      "text/plain": "3"
     },
     "execution_count": 53,
     "metadata": {},
     "output_type": "execute_result"
    }
   ],
   "source": [
    "a[2] #print at index 2"
   ]
  },
  {
   "cell_type": "code",
   "execution_count": 54,
   "id": "308dbf16",
   "metadata": {},
   "outputs": [
    {
     "data": {
      "text/plain": "array([3, 4, 5])"
     },
     "execution_count": 54,
     "metadata": {},
     "output_type": "execute_result"
    }
   ],
   "source": [
    "a[2: 5]"
   ]
  },
  {
   "cell_type": "code",
   "execution_count": 55,
   "id": "a42bad28",
   "metadata": {},
   "outputs": [],
   "source": [
    "a[:5:2] = 101 #replace 2nd element with 101"
   ]
  },
  {
   "cell_type": "code",
   "execution_count": 56,
   "id": "3fd2b889",
   "metadata": {},
   "outputs": [
    {
     "data": {
      "text/plain": "array([101,   2, 101,   4, 101,   6,   7,   8,   9])"
     },
     "execution_count": 56,
     "metadata": {},
     "output_type": "execute_result"
    }
   ],
   "source": [
    "a "
   ]
  },
  {
   "cell_type": "code",
   "execution_count": 57,
   "id": "606130e5",
   "metadata": {},
   "outputs": [
    {
     "data": {
      "text/plain": "array([  9,   8,   7,   6, 101,   4, 101,   2, 101])"
     },
     "execution_count": 57,
     "metadata": {},
     "output_type": "execute_result"
    }
   ],
   "source": [
    "a[::-1] #reverse the array"
   ]
  },
  {
   "cell_type": "code",
   "execution_count": 58,
   "id": "f3443fbf",
   "metadata": {},
   "outputs": [],
   "source": [
    "# 2D array\n",
    "a = np.array([\n",
    "    [ 0,  1,  2,  3],\n",
    "    [10, 11, 12, 13],\n",
    "    [20, 21, 22, 23],\n",
    "    [30, 31, 32, 33],\n",
    "    [40, 41, 42, 43]\n",
    "    ])"
   ]
  },
  {
   "cell_type": "code",
   "execution_count": 59,
   "id": "66a6e8cb",
   "metadata": {},
   "outputs": [
    {
     "data": {
      "text/plain": "23"
     },
     "execution_count": 59,
     "metadata": {},
     "output_type": "execute_result"
    }
   ],
   "source": [
    "a[2,3]"
   ]
  },
  {
   "cell_type": "code",
   "execution_count": 60,
   "id": "a04913ce",
   "metadata": {},
   "outputs": [
    {
     "data": {
      "text/plain": "array([ 1, 11, 21, 31, 41])"
     },
     "execution_count": 60,
     "metadata": {},
     "output_type": "execute_result"
    }
   ],
   "source": [
    "a[0:5,1]"
   ]
  },
  {
   "cell_type": "code",
   "execution_count": 61,
   "id": "b1f5723f",
   "metadata": {},
   "outputs": [
    {
     "data": {
      "text/plain": "array([ 1, 11, 21, 31, 41])"
     },
     "execution_count": 61,
     "metadata": {},
     "output_type": "execute_result"
    }
   ],
   "source": [
    "a[:,1]"
   ]
  },
  {
   "cell_type": "code",
   "execution_count": 62,
   "id": "1c0ef626",
   "metadata": {},
   "outputs": [
    {
     "data": {
      "text/plain": "array([[10, 11, 12, 13],\n       [20, 21, 22, 23]])"
     },
     "execution_count": 62,
     "metadata": {},
     "output_type": "execute_result"
    }
   ],
   "source": [
    "a[1:3, :]"
   ]
  },
  {
   "cell_type": "code",
   "execution_count": 63,
   "id": "a5380040",
   "metadata": {},
   "outputs": [
    {
     "data": {
      "text/plain": "array([40, 41, 42, 43])"
     },
     "execution_count": 63,
     "metadata": {},
     "output_type": "execute_result"
    }
   ],
   "source": [
    "a[-1]"
   ]
  },
  {
   "cell_type": "code",
   "execution_count": 64,
   "outputs": [
    {
     "data": {
      "text/plain": "array([[ 0,  1,  2,  3],\n       [10, 11, 12, 13],\n       [20, 21, 22, 23]])"
     },
     "execution_count": 64,
     "metadata": {},
     "output_type": "execute_result"
    }
   ],
   "source": [
    "a[:-2, :]"
   ],
   "metadata": {
    "collapsed": false,
    "pycharm": {
     "name": "#%%\n"
    }
   }
  }
 ],
 "metadata": {
  "kernelspec": {
   "display_name": "Python 3",
   "language": "python",
   "name": "python3"
  },
  "language_info": {
   "codemirror_mode": {
    "name": "ipython",
    "version": 3
   },
   "file_extension": ".py",
   "mimetype": "text/x-python",
   "name": "python",
   "nbconvert_exporter": "python",
   "pygments_lexer": "ipython3",
   "version": "3.9.5"
  }
 },
 "nbformat": 4,
 "nbformat_minor": 5
}