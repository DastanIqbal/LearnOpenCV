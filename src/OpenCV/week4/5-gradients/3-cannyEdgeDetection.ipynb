{
 "cells": [
  {
   "cell_type": "code",
   "execution_count": 1,
   "metadata": {
    "collapsed": true
   },
   "outputs": [],
   "source": [
    "import cv2\n",
    "import matplotlib.pyplot as plt\n",
    "%matplotlib inline\n",
    "\n",
    "DATA_PATH = \"/Users/admin/Iqbal/Study/OpenCV/LearnOpenCV/src/res/opencv-courses/\"\n"
   ]
  },
  {
   "cell_type": "code",
   "execution_count": 2,
   "outputs": [],
   "source": [
    "lowThreshold = 50\n",
    "highThreshold = 100\n",
    "\n",
    "maxThreshold = 1000\n",
    "\n",
    "apertureSizes = [3, 5, 7]\n",
    "maxapertureIndex = 2\n",
    "apertureIndex = 0\n",
    "\n",
    "blurAmount = 0\n",
    "maxBlurAmount = 20"
   ],
   "metadata": {
    "collapsed": false,
    "pycharm": {
     "name": "#%%\n"
    }
   }
  },
  {
   "cell_type": "code",
   "execution_count": 3,
   "outputs": [],
   "source": [
    "def applyCanny():\n",
    "    if blurAmount > 0:\n",
    "        blurredSrc = cv2.GaussianBlur(src, (2 * blurAmount + 1, 2 * blurAmount + 1), 0)\n",
    "    else:\n",
    "        blurredSrc = src.copy()\n",
    "\n",
    "    apertureSize = apertureSizes[apertureIndex];\n",
    "\n",
    "    edges = cv2.Canny(blurredSrc, lowThreshold, highThreshold, apertureSize=apertureSize)\n",
    "    cv2.imshow(\"Canny\",edges[..., ::-1])\n",
    "\n",
    "\n",
    "def updateLowThreshold(*args):\n",
    "    global lowThreshold\n",
    "    lowThreshold = args[0]\n",
    "    applyCanny()\n",
    "    pass\n",
    "\n",
    "\n",
    "def updateHighThreshold(*args):\n",
    "    global highThreshold\n",
    "    highThreshold = args[0]\n",
    "    applyCanny()\n",
    "    pass\n",
    "\n",
    "\n",
    "def updateBlurAmount(*args):\n",
    "    global blurAmount\n",
    "    blurAmount = args[0]\n",
    "    applyCanny()\n",
    "    pass\n",
    "\n",
    "\n",
    "def updateAperatureIndex(*args):\n",
    "    global apertureIndex\n",
    "    apertureIndex = args[0]\n",
    "    applyCanny()\n",
    "    pass\n"
   ],
   "metadata": {
    "collapsed": false,
    "pycharm": {
     "name": "#%%\n"
    }
   }
  },
  {
   "cell_type": "code",
   "execution_count": null,
   "outputs": [],
   "source": [
    "src = cv2.imread(DATA_PATH + \"images/sample.jpg\", cv2.IMREAD_GRAYSCALE)\n",
    "\n",
    "edges = src.copy()\n",
    "\n",
    "cv2.namedWindow(\"Edges\", cv2.WINDOW_AUTOSIZE)\n",
    "cv2.imshow(\"Edges\", src)\n",
    "\n",
    "cv2.createTrackbar(\"Low Threshold\", \"Edges\", lowThreshold, maxThreshold, updateLowThreshold)\n",
    "cv2.createTrackbar(\"High Threshold\", \"Edges\", highThreshold, maxThreshold, updateHighThreshold)\n",
    "cv2.createTrackbar(\"Aperture size\", \"Edges\", apertureIndex, maxapertureIndex, updateAperatureIndex)\n",
    "cv2.createTrackbar(\"Blur\", \"Edges\", blurAmount, maxBlurAmount, updateBlurAmount)\n",
    "\n",
    "k = cv2.waitKey(0)\n",
    "if k == 27:\n",
    "    cv2.destroyAllWindows()"
   ],
   "metadata": {
    "collapsed": false,
    "pycharm": {
     "name": "#%%\n",
     "is_executing": true
    }
   }
  }
 ],
 "metadata": {
  "kernelspec": {
   "display_name": "Python 3",
   "language": "python",
   "name": "python3"
  },
  "language_info": {
   "codemirror_mode": {
    "name": "ipython",
    "version": 2
   },
   "file_extension": ".py",
   "mimetype": "text/x-python",
   "name": "python",
   "nbconvert_exporter": "python",
   "pygments_lexer": "ipython2",
   "version": "2.7.6"
  }
 },
 "nbformat": 4,
 "nbformat_minor": 0
}