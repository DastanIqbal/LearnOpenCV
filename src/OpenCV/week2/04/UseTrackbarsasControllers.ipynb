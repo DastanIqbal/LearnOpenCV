{
 "cells": [
  {
   "cell_type": "code",
   "execution_count": 1,
   "metadata": {
    "collapsed": true
   },
   "outputs": [],
   "source": [
    "import cv2\n",
    "import sys\n",
    "\n",
    "sys.path.append()\n",
    "from dataPath import DATA_PATH\n",
    "\n",
    "DATA_PATH = \"/Users/admin/Iqbal/Study/OpenCV/LearnOpenCV/src/res/opencv-courses/\"\n",
    "windowName = \"Resize Image\"\n",
    "\n",
    "trackbarValue = \"Scale\"\n",
    "scaleFactor = 1\n",
    "maxScaleUp = 100\n",
    "\n",
    "trackbarType = \"Type: \\n 0: Scale Up \\n 1: Scale Down\"\n",
    "scaleType = 0\n",
    "maxType = 1"
   ]
  },
  {
   "cell_type": "code",
   "execution_count": 2,
   "outputs": [],
   "source": [
    "#load an image\n",
    "image = cv2.imread(DATA_PATH + \"images/truth.png\")\n",
    "cv2.namedWindow(windowName, cv2.WINDOW_AUTOSIZE)"
   ],
   "metadata": {
    "collapsed": false,
    "pycharm": {
     "name": "#%%\n"
    }
   }
  },
  {
   "cell_type": "code",
   "execution_count": 3,
   "outputs": [],
   "source": [
    "def scaleImage(*args):\n",
    "    global scaleType\n",
    "    global scaleFactor\n",
    "    scaleFactor = 1 + args[0] / 100.0\n",
    "\n",
    "    if scaleFactor == 0:\n",
    "        scaleFactor = 1\n",
    "    scaledImage = cv2.resize(image, None, fx=scaleFactor, fy=scaleFactor, interpolation=cv2.INTER_LINEAR)\n",
    "    cv2.imshow(windowName, scaledImage)\n",
    "\n",
    "\n",
    "def scaleTypeImage(*args):\n",
    "    global scaleType\n",
    "    global scaleFactor\n",
    "    scaleType = args[0]\n",
    "    scaleFactor = 1 + scaleFactor / 100.0\n",
    "\n",
    "    if scaleFactor == 0:\n",
    "        scaleFactor = 1\n",
    "    scaledImage = cv2.resize(image, None, fx=scaleFactor, fy=scaleFactor, interpolation=cv2.INTER_LINEAR)\n",
    "    cv2.imshow(windowName, scaledImage)\n",
    "\n"
   ],
   "metadata": {
    "collapsed": false,
    "pycharm": {
     "name": "#%%\n"
    }
   }
  },
  {
   "cell_type": "code",
   "execution_count": 4,
   "outputs": [],
   "source": [
    "cv2.createTrackbar(trackbarValue, windowName, scaleFactor, maxScaleUp, scaleImage)\n",
    "cv2.createTrackbar(trackbarType, windowName, scaleType, maxType, scaleTypeImage)"
   ],
   "metadata": {
    "collapsed": false,
    "pycharm": {
     "name": "#%%\n"
    }
   }
  },
  {
   "cell_type": "code",
   "execution_count": null,
   "outputs": [],
   "source": [
    "cv2.imshow(windowName, image)\n",
    "\n",
    "c = cv2.waitKey(0)\n",
    "cv2.destroyAllWindows()"
   ],
   "metadata": {
    "collapsed": false,
    "pycharm": {
     "name": "#%%\n",
     "is_executing": true
    }
   }
  }
 ],
 "metadata": {
  "kernelspec": {
   "display_name": "Python 3",
   "language": "python",
   "name": "python3"
  },
  "language_info": {
   "codemirror_mode": {
    "name": "ipython",
    "version": 2
   },
   "file_extension": ".py",
   "mimetype": "text/x-python",
   "name": "python",
   "nbconvert_exporter": "python",
   "pygments_lexer": "ipython2",
   "version": "2.7.6"
  }
 },
 "nbformat": 4,
 "nbformat_minor": 0
}