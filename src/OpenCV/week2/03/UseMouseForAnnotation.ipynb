{
 "cells": [
  {
   "cell_type": "code",
   "execution_count": 129,
   "metadata": {
    "collapsed": true,
    "pycharm": {
     "name": "#%%\n"
    }
   },
   "outputs": [
    {
     "name": "stdout",
     "output_type": "stream",
     "text": [
      "Using matplotlib backend: MacOSX\n"
     ]
    }
   ],
   "source": [
    "import cv2\n",
    "import math\n",
    "%matplotlib\n",
    "\n",
    "import matplotlib\n",
    "\n",
    "matplotlib.rcParams['figure.figsize'] = (10.0, 10.0)\n",
    "matplotlib.rcParams['image.cmap'] = 'gray'\n",
    "\n",
    "DATA_PATH = \"/Users/admin/Iqbal/Study/OpenCV/LearnOpenCV/src/res/opencv-courses/\"\n",
    "\n",
    "center = ()\n",
    "circumference = ()\n",
    "windowName = \"Window\""
   ]
  },
  {
   "cell_type": "code",
   "execution_count": 130,
   "outputs": [],
   "source": [
    "def drawCircle(action, x, y, flags, userdata):\n",
    "    global center, circumference\n",
    "\n",
    "    if action == cv2.EVENT_LBUTTONDOWN:\n",
    "        center = (x, y)\n",
    "        cv2.circle(source, center, 1, (255, 0, 255), 1, cv2.LINE_AA)\n",
    "\n",
    "    elif action == cv2.EVENT_LBUTTONUP:\n",
    "        circumference = (x, y)\n",
    "        radius = math.sqrt(\n",
    "            math.pow(center[0]-circumference[0],2) +\n",
    "                        math.pow(center[1]-circumference[1],2)\n",
    "        )\n",
    "        cv2.circle(source, center, int(radius), (255, 0, 255), 1, cv2.LINE_AA)\n",
    "        cv2.imshow(windowName, source)"
   ],
   "metadata": {
    "collapsed": false,
    "pycharm": {
     "name": "#%%\n"
    }
   }
  },
  {
   "cell_type": "code",
   "execution_count": 131,
   "outputs": [],
   "source": [
    "source = cv2.imread(DATA_PATH + \"images/sample.jpg\")\n",
    "cv2.namedWindow(windowName)\n",
    "cv2.setMouseCallback(windowName,drawCircle)\n",
    "\n",
    "dummy = source.copy()\n",
    "k = 0\n",
    "while k != 27:\n",
    "    cv2.putText(source, \"Select two points\", (10, 30), cv2.FONT_HERSHEY_PLAIN, 1, (10, 10, 10), 3, cv2.LINE_AA)\n",
    "    cv2.imshow(windowName, source)\n",
    "    k = cv2.waitKey(25) & 0xFF\n",
    "    if k == 99:\n",
    "        source = dummy.copy()"
   ],
   "metadata": {
    "collapsed": false,
    "pycharm": {
     "name": "#%%\n"
    }
   }
  },
  {
   "cell_type": "code",
   "execution_count": 132,
   "outputs": [],
   "source": [
    "cv2.destroyAllWindows()"
   ],
   "metadata": {
    "collapsed": false,
    "pycharm": {
     "name": "#%%\n"
    }
   }
  },
  {
   "cell_type": "code",
   "execution_count": 133,
   "outputs": [
    {
     "name": "stdout",
     "output_type": "stream",
     "text": [
      "10\n",
      "20\n"
     ]
    }
   ],
   "source": [
    "center=(10,20)\n",
    "print(center[0])\n",
    "print(center[1])"
   ],
   "metadata": {
    "collapsed": false,
    "pycharm": {
     "name": "#%%\n"
    }
   }
  }
 ],
 "metadata": {
  "kernelspec": {
   "display_name": "Python 3",
   "language": "python",
   "name": "python3"
  },
  "language_info": {
   "codemirror_mode": {
    "name": "ipython",
    "version": 2
   },
   "file_extension": ".py",
   "mimetype": "text/x-python",
   "name": "python",
   "nbconvert_exporter": "python",
   "pygments_lexer": "ipython2",
   "version": "2.7.6"
  }
 },
 "nbformat": 4,
 "nbformat_minor": 0
}