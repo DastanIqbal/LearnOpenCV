{
 "cells": [
  {
   "cell_type": "code",
   "execution_count": 639,
   "metadata": {
    "collapsed": true
   },
   "outputs": [],
   "source": [
    "import cv2\n",
    "import matplotlib.pyplot as plt\n",
    "import numpy as np\n",
    "%matplotlib inline\n",
    "\n",
    "import matplotlib\n",
    "\n",
    "matplotlib.rcParams['figure.figsize'] = (6, 6)\n",
    "matplotlib.rcParams['image.cmap'] = 'gray'\n"
   ]
  },
  {
   "cell_type": "code",
   "execution_count": 640,
   "outputs": [
    {
     "name": "stdout",
     "output_type": "stream",
     "text": [
      "[[0 0 0 0 0 0 0 0 0 0]\n",
      " [0 0 0 0 0 0 0 0 0 0]\n",
      " [0 0 0 0 0 0 0 0 0 0]\n",
      " [0 0 0 0 0 0 0 0 0 0]\n",
      " [0 0 0 0 0 0 0 0 0 0]\n",
      " [0 0 0 0 0 0 0 0 0 0]\n",
      " [0 0 0 0 0 0 0 0 0 0]\n",
      " [0 0 0 0 0 0 0 0 0 0]\n",
      " [0 0 0 0 0 0 0 0 0 0]\n",
      " [0 0 0 0 0 0 0 0 0 0]]\n"
     ]
    },
    {
     "data": {
      "text/plain": "<Figure size 432x432 with 1 Axes>",
      "image/png": "[encoded data removed]"
     },
     "metadata": {
      "needs_background": "light"
     },
     "output_type": "display_data"
    }
   ],
   "source": [
    "im = np.zeros((10, 10), dtype='uint8')\n",
    "plt.imshow(im)\n",
    "print(im)"
   ],
   "metadata": {
    "collapsed": false,
    "pycharm": {
     "name": "#%%\n"
    }
   }
  },
  {
   "cell_type": "code",
   "execution_count": 641,
   "outputs": [
    {
     "name": "stdout",
     "output_type": "stream",
     "text": [
      "[[0 1 0 0 0 0 0 0 0 0]\n",
      " [0 0 0 0 0 0 0 0 0 0]\n",
      " [0 0 1 0 0 0 0 0 0 0]\n",
      " [0 0 0 0 0 0 0 0 0 0]\n",
      " [0 0 0 0 0 0 0 0 0 0]\n",
      " [0 0 0 0 0 1 1 1 0 0]\n",
      " [0 0 0 0 0 1 1 1 0 0]\n",
      " [0 0 0 0 0 1 1 1 0 0]\n",
      " [0 0 0 0 0 0 0 0 0 1]\n",
      " [1 0 0 0 0 0 0 0 0 0]]\n"
     ]
    },
    {
     "data": {
      "text/plain": "<Figure size 432x432 with 1 Axes>",
      "image/png": "[encoded data removed]"
     },
     "metadata": {
      "needs_background": "light"
     },
     "output_type": "display_data"
    }
   ],
   "source": [
    "im[0, 1] = 1\n",
    "im[-1, 0] = 1\n",
    "im[-2, -1] = 1\n",
    "im[2, 2] = 1\n",
    "im[5:8, 5:8] = 1\n",
    "\n",
    "plt.imshow(im)\n",
    "print(im)"
   ],
   "metadata": {
    "collapsed": false,
    "pycharm": {
     "name": "#%%\n"
    }
   }
  },
  {
   "cell_type": "code",
   "execution_count": 642,
   "outputs": [
    {
     "name": "stdout",
     "output_type": "stream",
     "text": [
      "[[0 1 0]\n",
      " [1 1 1]\n",
      " [0 1 0]]\n"
     ]
    }
   ],
   "source": [
    "element = cv2.getStructuringElement(cv2.MORPH_ELLIPSE, (3, 3))\n",
    "print(element)\n",
    "\n",
    "#plt.imshow(element)\n",
    "ksize = element.shape[0]\n",
    "height, width = im.shape[:2]"
   ],
   "metadata": {
    "collapsed": false,
    "pycharm": {
     "name": "#%%\n"
    }
   }
  },
  {
   "cell_type": "code",
   "execution_count": 643,
   "outputs": [
    {
     "name": "stdout",
     "output_type": "stream",
     "text": [
      "[[1 1 1 0 0 0 0 0 0 0]\n",
      " [0 1 1 0 0 0 0 0 0 0]\n",
      " [0 1 1 1 0 0 0 0 0 0]\n",
      " [0 0 1 0 0 0 0 0 0 0]\n",
      " [0 0 0 0 0 1 1 1 0 0]\n",
      " [0 0 0 0 1 1 1 1 1 0]\n",
      " [0 0 0 0 1 1 1 1 1 0]\n",
      " [0 0 0 0 1 1 1 1 1 1]\n",
      " [1 0 0 0 0 1 1 1 1 1]\n",
      " [1 1 0 0 0 0 0 0 0 1]]\n"
     ]
    },
    {
     "data": {
      "text/plain": "<matplotlib.image.AxesImage at 0x13dd1ea00>"
     },
     "execution_count": 643,
     "metadata": {},
     "output_type": "execute_result"
    },
    {
     "data": {
      "text/plain": "<Figure size 432x432 with 1 Axes>",
      "image/png": "[encoded data removed]"
     },
     "metadata": {
      "needs_background": "light"
     },
     "output_type": "display_data"
    }
   ],
   "source": [
    "dilatedEllipseKernel = cv2.dilate(im, element)\n",
    "print(dilatedEllipseKernel)\n",
    "plt.imshow(dilatedEllipseKernel)"
   ],
   "metadata": {
    "collapsed": false,
    "pycharm": {
     "name": "#%%\n"
    }
   }
  },
  {
   "cell_type": "code",
   "execution_count": 644,
   "outputs": [
    {
     "name": "stdout",
     "output_type": "stream",
     "text": [
      "[[0 0 0 0 0 0 0 0 0 0 0 0]\n",
      " [0 0 1 0 0 0 0 0 0 0 0 0]\n",
      " [0 0 0 0 0 0 0 0 0 0 0 0]\n",
      " [0 0 0 1 0 0 0 0 0 0 0 0]\n",
      " [0 0 0 0 0 0 0 0 0 0 0 0]\n",
      " [0 0 0 0 0 0 0 0 0 0 0 0]\n",
      " [0 0 0 0 0 0 1 1 1 0 0 0]\n",
      " [0 0 0 0 0 0 1 1 1 0 0 0]\n",
      " [0 0 0 0 0 0 1 1 1 0 0 0]\n",
      " [0 0 0 0 0 0 0 0 0 0 1 0]\n",
      " [0 1 0 0 0 0 0 0 0 0 0 0]\n",
      " [0 0 0 0 0 0 0 0 0 0 0 0]]\n"
     ]
    },
    {
     "data": {
      "text/plain": "<Figure size 432x432 with 1 Axes>",
      "image/png": "[encoded data removed]"
     },
     "metadata": {
      "needs_background": "light"
     },
     "output_type": "display_data"
    }
   ],
   "source": [
    "border = ksize // 2\n",
    "\n",
    "paddedIm = np.zeros((height + border * 2, width + border * 2))\n",
    "paddedIm = cv2.copyMakeBorder(im, border, border, border, border, cv2.BORDER_CONSTANT, value=0)\n",
    "paddedDilatedIm = paddedIm.copy()\n",
    "plt.imshow(paddedDilatedIm)\n",
    "print(paddedDilatedIm)\n"
   ],
   "metadata": {
    "collapsed": false,
    "pycharm": {
     "name": "#%%\n"
    }
   }
  },
  {
   "cell_type": "code",
   "execution_count": 645,
   "outputs": [
    {
     "data": {
      "text/plain": "<Figure size 720x720 with 0 Axes>"
     },
     "metadata": {},
     "output_type": "display_data"
    }
   ],
   "source": [
    "# Create a VideoWriter object\n",
    "# Use frame size as 50x50\n",
    "out = cv2.VideoWriter(\n",
    "    'dilationScratch.avi',\n",
    "    cv2.VideoWriter_fourcc('M','J','P','G'),\n",
    "    10,\n",
    "    (50,50)\n",
    ")\n",
    "plt.figure(figsize=[10, 10])\n",
    "for h_i in range(border, height + border):\n",
    "    for w_i in range(border, width + border):\n",
    "        roi = paddedIm[h_i - border:h_i + border + 1, w_i - border:w_i + border + 1]\n",
    "        cx = int(((h_i - border) + (h_i + border + 1)) // 2)\n",
    "        cy = int(((w_i - border) + (w_i + border + 1)) // 2)\n",
    "        if not paddedIm[cx, cy]:\n",
    "            ops = cv2.bitwise_and(roi, element)\n",
    "            if np.amax(ops):\n",
    "                paddedDilatedIm[cx, cy] = np.amax(ops)\n",
    "                # Resize output to 50x50 before writing it to the video\n",
    "                frame = paddedDilatedIm[:,:,None]*1*np.empty(3,dtype='uint8')[None,None,:]\n",
    "                frames = cv2.resize(frame,(50,50),interpolation=cv2.INTER_NEAREST)\n",
    "\n",
    "                # Convert resizedFrame to BGR before writing\n",
    "                frames = cv2.cvtColor(frames,cv2.COLOR_BGR2GRAY)\n",
    "                (thresh, im_bw) = cv2.threshold(frames, 128, 255, cv2.THRESH_BINARY | cv2.THRESH_OTSU)\n",
    "                frame3d = cv2.merge((im_bw,im_bw,im_bw))\n",
    "                out.write(frame3d)\n",
    "\n",
    "# Release the VideoWriter object\n",
    "out.release()"
   ],
   "metadata": {
    "collapsed": false,
    "pycharm": {
     "name": "#%%\n"
    }
   }
  },
  {
   "cell_type": "code",
   "execution_count": 646,
   "outputs": [
    {
     "name": "stdout",
     "output_type": "stream",
     "text": [
      "[[1 1 1 0 0 0 0 0 0 0]\n",
      " [0 1 1 0 0 0 0 0 0 0]\n",
      " [0 1 1 1 0 0 0 0 0 0]\n",
      " [0 0 1 0 0 0 0 0 0 0]\n",
      " [0 0 0 0 0 1 1 1 0 0]\n",
      " [0 0 0 0 1 1 1 1 1 0]\n",
      " [0 0 0 0 1 1 1 1 1 0]\n",
      " [0 0 0 0 1 1 1 1 1 1]\n",
      " [1 0 0 0 0 1 1 1 1 1]\n",
      " [1 1 0 0 0 0 0 0 0 1]]\n"
     ]
    },
    {
     "data": {
      "text/plain": "<matplotlib.image.AxesImage at 0x13ddf3280>"
     },
     "execution_count": 646,
     "metadata": {},
     "output_type": "execute_result"
    },
    {
     "data": {
      "text/plain": "<Figure size 432x432 with 1 Axes>",
      "image/png": "[encoded data removed]"
     },
     "metadata": {
      "needs_background": "light"
     },
     "output_type": "display_data"
    }
   ],
   "source": [
    "# Display final image (cropped)\n",
    "dilatedImage = paddedDilatedIm[border:border + height, border:border + width]\n",
    "print(dilatedImage)\n",
    "plt.imshow(dilatedImage)\n"
   ],
   "metadata": {
    "collapsed": false,
    "pycharm": {
     "name": "#%%\n"
    }
   }
  },
  {
   "cell_type": "markdown",
   "source": [
    "<video width=\"320\" height=\"240\" controls>\n",
    "<source src=\"dilationScratch.avi\" type=\"video/mp4\">\n",
    "</video>\n"
   ],
   "metadata": {
    "collapsed": false,
    "pycharm": {
     "name": "#%% md\n"
    }
   }
  },
  {
   "cell_type": "code",
   "execution_count": 647,
   "outputs": [
    {
     "name": "stdout",
     "output_type": "stream",
     "text": [
      "[[0 1 0 0 0 0 0 0 0 0]\n",
      " [0 0 0 0 0 0 0 0 0 0]\n",
      " [0 0 1 0 0 0 0 0 0 0]\n",
      " [0 0 0 0 0 0 0 0 0 0]\n",
      " [0 0 0 0 0 0 0 0 0 0]\n",
      " [0 0 0 0 0 1 1 1 0 0]\n",
      " [0 0 0 0 0 1 1 1 0 0]\n",
      " [0 0 0 0 0 1 1 1 0 0]\n",
      " [0 0 0 0 0 0 0 0 0 1]\n",
      " [1 0 0 0 0 0 0 0 0 0]]\n",
      "[[0 0 0 0 0 0 0 0 0 0]\n",
      " [0 0 0 0 0 0 0 0 0 0]\n",
      " [0 0 0 0 0 0 0 0 0 0]\n",
      " [0 0 0 0 0 0 0 0 0 0]\n",
      " [0 0 0 0 0 0 0 0 0 0]\n",
      " [0 0 0 0 0 0 0 0 0 0]\n",
      " [0 0 0 0 0 0 1 0 0 0]\n",
      " [0 0 0 0 0 0 0 0 0 0]\n",
      " [0 0 0 0 0 0 0 0 0 0]\n",
      " [0 0 0 0 0 0 0 0 0 0]]\n"
     ]
    },
    {
     "data": {
      "text/plain": "<Figure size 432x432 with 1 Axes>",
      "image/png": "[encoded data removed]"
     },
     "metadata": {
      "needs_background": "light"
     },
     "output_type": "display_data"
    }
   ],
   "source": [
    "print(im)\n",
    "ErodedEllipseKernel = cv2.erode(im, element)\n",
    "print(ErodedEllipseKernel)\n",
    "plt.imshow(ErodedEllipseKernel);"
   ],
   "metadata": {
    "collapsed": false,
    "pycharm": {
     "name": "#%%\n"
    }
   }
  },
  {
   "cell_type": "code",
   "execution_count": 648,
   "outputs": [
    {
     "name": "stdout",
     "output_type": "stream",
     "text": [
      "[[1 1 1 1 1 1 1 1 1 1 1 1]\n",
      " [1 0 1 0 0 0 0 0 0 0 0 1]\n",
      " [1 0 0 0 0 0 0 0 0 0 0 1]\n",
      " [1 0 0 1 0 0 0 0 0 0 0 1]\n",
      " [1 0 0 0 0 0 0 0 0 0 0 1]\n",
      " [1 0 0 0 0 0 0 0 0 0 0 1]\n",
      " [1 0 0 0 0 0 1 1 1 0 0 1]\n",
      " [1 0 0 0 0 0 1 1 1 0 0 1]\n",
      " [1 0 0 0 0 0 1 1 1 0 0 1]\n",
      " [1 0 0 0 0 0 0 0 0 0 1 1]\n",
      " [1 1 0 0 0 0 0 0 0 0 0 1]\n",
      " [1 1 1 1 1 1 1 1 1 1 1 1]]\n"
     ]
    },
    {
     "data": {
      "text/plain": "<Figure size 432x432 with 1 Axes>",
      "image/png": "[encoded data removed]"
     },
     "metadata": {
      "needs_background": "light"
     },
     "output_type": "display_data"
    }
   ],
   "source": [
    "border = ksize//2\n",
    "\n",
    "paddedIm = np.zeros((height + border*2, width + border*2))\n",
    "paddedIm = cv2.copyMakeBorder(im, border, border, border, border, cv2.BORDER_CONSTANT, value = 1)\n",
    "paddedErodedIm = paddedIm.copy()\n",
    "plt.imshow(paddedErodedIm)\n",
    "print(paddedErodedIm)\n",
    "\n",
    "# Create a VideoWriter object\n",
    "# Use frame size as 50x50\n",
    "out = cv2.VideoWriter(\n",
    "    'erosionScratch.avi',\n",
    "    cv2.VideoWriter_fourcc('M','J','P','G'),\n",
    "    10,\n",
    "    (50,50)\n",
    ")\n",
    "\n",
    "for h_i in range(border, height+border):\n",
    "    for w_i in range(border,width+border):\n",
    "        roi = paddedIm[h_i - border:h_i + border + 1, w_i - border:w_i + border + 1]\n",
    "        cx = int(((h_i - border) + (h_i + border + 1)) // 2)\n",
    "        cy = int(((w_i - border) + (w_i + border + 1)) // 2)\n",
    "        if paddedIm[cx, cy]:\n",
    "            ops = cv2.bitwise_or(roi, element)\n",
    "            if not np.amin(ops):\n",
    "                paddedErodedIm[cx, cy] = np.amin(ops)\n",
    "                # Resize output to 50x50 before writing it to the video\n",
    "                frame = paddedErodedIm[:,:,None]*1*np.empty(3,dtype='uint8')[None,None,:]\n",
    "                frames = cv2.resize(frame,(50,50),interpolation=cv2.INTER_NEAREST)\n",
    "\n",
    "                # Convert resizedFrame to BGR before writing\n",
    "                frames = cv2.cvtColor(frames,cv2.COLOR_BGR2GRAY)\n",
    "                (thresh, im_bw) = cv2.threshold(frames, 128, 255, cv2.THRESH_BINARY | cv2.THRESH_OTSU)\n",
    "                frame3d = cv2.merge((im_bw,im_bw,im_bw))\n",
    "                out.write(frame3d)\n",
    "\n",
    "out.release()"
   ],
   "metadata": {
    "collapsed": false,
    "pycharm": {
     "name": "#%%\n"
    }
   }
  },
  {
   "cell_type": "code",
   "execution_count": 649,
   "outputs": [
    {
     "name": "stdout",
     "output_type": "stream",
     "text": [
      "[[0 0 0 0 0 0 0 0 0 0]\n",
      " [0 0 0 0 0 0 0 0 0 0]\n",
      " [0 0 0 0 0 0 0 0 0 0]\n",
      " [0 0 0 0 0 0 0 0 0 0]\n",
      " [0 0 0 0 0 0 0 0 0 0]\n",
      " [0 0 0 0 0 0 0 0 0 0]\n",
      " [0 0 0 0 0 0 1 0 0 0]\n",
      " [0 0 0 0 0 0 0 0 0 0]\n",
      " [0 0 0 0 0 0 0 0 0 0]\n",
      " [0 0 0 0 0 0 0 0 0 0]]\n"
     ]
    },
    {
     "data": {
      "text/plain": "<matplotlib.image.AxesImage at 0x13df0c6a0>"
     },
     "execution_count": 649,
     "metadata": {},
     "output_type": "execute_result"
    },
    {
     "data": {
      "text/plain": "<Figure size 432x432 with 1 Axes>",
      "image/png": "[encoded data removed]"
     },
     "metadata": {
      "needs_background": "light"
     },
     "output_type": "display_data"
    }
   ],
   "source": [
    "# Display final image (cropped)\n",
    "erodedImage = paddedErodedIm[border:border + height, border:border + width]\n",
    "print(erodedImage)\n",
    "plt.imshow(erodedImage)"
   ],
   "metadata": {
    "collapsed": false,
    "pycharm": {
     "name": "#%%\n"
    }
   }
  },
  {
   "cell_type": "markdown",
   "source": [
    "<video width=\"320\" height=\"240\" controls>\n",
    "  <source src=\"method2.mp4\" type=\"video/mp4\">\n",
    "</video>"
   ],
   "metadata": {
    "collapsed": false
   }
  }
 ],
 "metadata": {
  "kernelspec": {
   "display_name": "Python 3",
   "language": "python",
   "name": "python3"
  },
  "language_info": {
   "codemirror_mode": {
    "name": "ipython",
    "version": 2
   },
   "file_extension": ".py",
   "mimetype": "text/x-python",
   "name": "python",
   "nbconvert_exporter": "python",
   "pygments_lexer": "ipython2",
   "version": "2.7.6"
  }
 },
 "nbformat": 4,
 "nbformat_minor": 0
}