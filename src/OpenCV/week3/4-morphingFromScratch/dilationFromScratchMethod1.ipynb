{
 "cells": [
  {
   "cell_type": "code",
   "execution_count": 16,
   "metadata": {
    "collapsed": true
   },
   "outputs": [],
   "source": [
    "import cv2\n",
    "import matplotlib.pyplot as plt\n",
    "import numpy as np\n",
    "%matplotlib inline\n",
    "\n",
    "import matplotlib\n",
    "\n",
    "matplotlib.rcParams['figure.figsize'] = (6, 6)\n",
    "matplotlib.rcParams['image.cmap'] = 'gray'\n"
   ]
  },
  {
   "cell_type": "code",
   "execution_count": 17,
   "outputs": [
    {
     "name": "stdout",
     "output_type": "stream",
     "text": [
      "[[0 0 0 0 0 0 0 0 0 0]\n",
      " [0 0 0 0 0 0 0 0 0 0]\n",
      " [0 0 0 0 0 0 0 0 0 0]\n",
      " [0 0 0 0 0 0 0 0 0 0]\n",
      " [0 0 0 0 0 0 0 0 0 0]\n",
      " [0 0 0 0 0 0 0 0 0 0]\n",
      " [0 0 0 0 0 0 0 0 0 0]\n",
      " [0 0 0 0 0 0 0 0 0 0]\n",
      " [0 0 0 0 0 0 0 0 0 0]\n",
      " [0 0 0 0 0 0 0 0 0 0]]\n"
     ]
    },
    {
     "data": {
      "text/plain": "<Figure size 432x432 with 1 Axes>",
      "image/png": "[encoded data removed]"
     },
     "metadata": {
      "needs_background": "light"
     },
     "output_type": "display_data"
    }
   ],
   "source": [
    "im = np.zeros((10, 10), dtype='uint8')\n",
    "print(im)\n",
    "plt.imshow(im)\n",
    "imH, imW = im.shape[:2]"
   ],
   "metadata": {
    "collapsed": false,
    "pycharm": {
     "name": "#%%\n"
    }
   }
  },
  {
   "cell_type": "code",
   "execution_count": 18,
   "outputs": [
    {
     "name": "stdout",
     "output_type": "stream",
     "text": [
      "[[0 1 0 0 0 0 0 0 0 0]\n",
      " [0 0 0 0 0 0 0 0 0 0]\n",
      " [0 0 1 0 0 0 0 0 0 0]\n",
      " [0 0 0 0 0 0 0 0 0 0]\n",
      " [0 0 0 0 0 0 0 0 0 0]\n",
      " [0 0 0 0 0 1 1 1 0 0]\n",
      " [0 0 0 0 0 1 1 1 0 0]\n",
      " [0 0 0 0 0 1 1 1 0 0]\n",
      " [0 0 0 0 0 0 0 0 0 1]\n",
      " [1 0 0 0 0 0 0 0 0 0]]\n"
     ]
    },
    {
     "data": {
      "text/plain": "<Figure size 432x432 with 1 Axes>",
      "image/png": "[encoded data removed]"
     },
     "metadata": {
      "needs_background": "light"
     },
     "output_type": "display_data"
    },
    {
     "name": "stdout",
     "output_type": "stream",
     "text": [
      "(10, 10)\n"
     ]
    }
   ],
   "source": [
    "im[0, 1] = 1\n",
    "im[-1, 0] = 1\n",
    "im[-2, -1] = 1\n",
    "im[2, 2] = 1\n",
    "im[5:8, 5:8] = 1\n",
    "\n",
    "print(im)\n",
    "plt.imshow(im);plt.show()\n",
    "print(im.shape)\n",
    "# frame = im[:,:,None]*1*np.empty(3,dtype='uint8')[None,None,:]\n",
    "# # plt.imshow(frame);plt.show()\n",
    "# frames = cv2.resize(frame,(50,50),interpolation=cv2.INTER_NEAREST)\n",
    "# frames = cv2.cvtColor(frames[...,::-1],cv2.COLOR_RGB2GRAY)\n",
    "# print(frames.shape)\n",
    "# (thresh, im_bw) = cv2.threshold(frames, 128, 255, cv2.THRESH_BINARY | cv2.THRESH_OTSU)\n",
    "# # plt.imshow(frames);plt.show()\n",
    "# cv2.imwrite(f\"im{1}{2}.jpg\",im_bw)"
   ],
   "metadata": {
    "collapsed": false,
    "pycharm": {
     "name": "#%%\n"
    }
   }
  },
  {
   "cell_type": "code",
   "execution_count": 19,
   "outputs": [
    {
     "name": "stdout",
     "output_type": "stream",
     "text": [
      "[[0 1 0]\n",
      " [1 1 1]\n",
      " [0 1 0]]\n"
     ]
    },
    {
     "data": {
      "text/plain": "<Figure size 432x432 with 1 Axes>",
      "image/png": "[encoded data removed]"
     },
     "metadata": {
      "needs_background": "light"
     },
     "output_type": "display_data"
    }
   ],
   "source": [
    "element = cv2.getStructuringElement(cv2.MORPH_ELLIPSE, (3, 3))\n",
    "print(element)\n",
    "plt.imshow(element)\n",
    "\n",
    "kSize = element.shape[0]\n",
    "height, width = im.shape[:2]"
   ],
   "metadata": {
    "collapsed": false,
    "pycharm": {
     "name": "#%%\n"
    }
   }
  },
  {
   "cell_type": "code",
   "execution_count": 20,
   "outputs": [
    {
     "name": "stdout",
     "output_type": "stream",
     "text": [
      "[[1 1 1 0 0 0 0 0 0 0]\n",
      " [0 1 1 0 0 0 0 0 0 0]\n",
      " [0 1 1 1 0 0 0 0 0 0]\n",
      " [0 0 1 0 0 0 0 0 0 0]\n",
      " [0 0 0 0 0 1 1 1 0 0]\n",
      " [0 0 0 0 1 1 1 1 1 0]\n",
      " [0 0 0 0 1 1 1 1 1 0]\n",
      " [0 0 0 0 1 1 1 1 1 1]\n",
      " [1 0 0 0 0 1 1 1 1 1]\n",
      " [1 1 0 0 0 0 0 0 0 1]]\n"
     ]
    },
    {
     "data": {
      "text/plain": "<matplotlib.image.AxesImage at 0x13c01d580>"
     },
     "execution_count": 20,
     "metadata": {},
     "output_type": "execute_result"
    },
    {
     "data": {
      "text/plain": "<Figure size 432x432 with 1 Axes>",
      "image/png": "[encoded data removed]"
     },
     "metadata": {
      "needs_background": "light"
     },
     "output_type": "display_data"
    }
   ],
   "source": [
    "dilatedEllipseKernel = cv2.dilate(im, element)\n",
    "print(dilatedEllipseKernel)\n",
    "plt.imshow(dilatedEllipseKernel)"
   ],
   "metadata": {
    "collapsed": false,
    "pycharm": {
     "name": "#%%\n"
    }
   }
  },
  {
   "cell_type": "code",
   "execution_count": 21,
   "outputs": [
    {
     "name": "stdout",
     "output_type": "stream",
     "text": [
      "[[0 0 0 0 0 0 0 0 0 0 0 0]\n",
      " [0 0 1 0 0 0 0 0 0 0 0 0]\n",
      " [0 0 0 0 0 0 0 0 0 0 0 0]\n",
      " [0 0 0 1 0 0 0 0 0 0 0 0]\n",
      " [0 0 0 0 0 0 0 0 0 0 0 0]\n",
      " [0 0 0 0 0 0 0 0 0 0 0 0]\n",
      " [0 0 0 0 0 0 1 1 1 0 0 0]\n",
      " [0 0 0 0 0 0 1 1 1 0 0 0]\n",
      " [0 0 0 0 0 0 1 1 1 0 0 0]\n",
      " [0 0 0 0 0 0 0 0 0 0 1 0]\n",
      " [0 1 0 0 0 0 0 0 0 0 0 0]\n",
      " [0 0 0 0 0 0 0 0 0 0 0 0]]\n"
     ]
    },
    {
     "name": "stderr",
     "output_type": "stream",
     "text": [
      "OpenCV: FFMPEG: tag 0x47504a4d/'MJPG' is not supported with codec id 7 and format 'mp4 / MP4 (MPEG-4 Part 14)'\n",
      "OpenCV: FFMPEG: fallback to use tag 0x7634706d/'mp4v'\n"
     ]
    }
   ],
   "source": [
    "border = kSize // 2\n",
    "\n",
    "# Create a padded image with zeros padding\n",
    "paddedIm = np.zeros((height + border * 2, width + border * 2))\n",
    "paddedIm = cv2.copyMakeBorder(im, border, border, border, border, cv2.BORDER_CONSTANT, value=0)\n",
    "print(paddedIm)\n",
    "\n",
    "frameWidth = int(50)\n",
    "frameHeight = int(50)\n",
    "\n",
    "out = cv2.VideoWriter(\n",
    "    'method1.mp4',\n",
    "    cv2.VideoWriter_fourcc('M','J','P','G'),\n",
    "    10,\n",
    "    (frameWidth,frameHeight)\n",
    ")"
   ],
   "metadata": {
    "collapsed": false,
    "pycharm": {
     "name": "#%%\n"
    }
   }
  },
  {
   "cell_type": "code",
   "execution_count": 22,
   "outputs": [],
   "source": [
    "for h_i in range(border, height + border):\n",
    "    for w_i in range(border, width + border):\n",
    "        if im[h_i - border, w_i - border]:\n",
    "            paddedIm[h_i - border:h_i + border + 1, w_i - border:w_i + border + 1] = cv2.bitwise_or(\n",
    "                paddedIm[h_i - border:h_i + border + 1, w_i - border:w_i + border + 1], element)\n",
    "            # plt.imshow(paddedIm,cmap='gray');plt.show()\n",
    "            frame = paddedIm[:,:,None]*1*np.empty(3,dtype='uint8')[None,None,:]\n",
    "            # plt.imshow(frame);plt.show()\n",
    "            frames = cv2.resize(frame,(50,50),interpolation=cv2.INTER_NEAREST)\n",
    "            frames = cv2.cvtColor(frames,cv2.COLOR_BGR2GRAY)\n",
    "            (thresh, im_bw) = cv2.threshold(frames, 128, 255, cv2.THRESH_BINARY | cv2.THRESH_OTSU)\n",
    "            frame3d = cv2.merge((im_bw,im_bw,im_bw))\n",
    "            # print(frame3d.shape)\n",
    "            # plt.imshow(frame3d);plt.show()\n",
    "            # cv2.imwrite(f\"frame_{h_i}{w_i}.jpg\",frame)\n",
    "            out.write(frame3d)\n",
    "            cv2.waitKey(25)\n",
    "\n",
    "\n",
    "out.release()"
   ],
   "metadata": {
    "collapsed": false,
    "pycharm": {
     "name": "#%%\n"
    }
   }
  },
  {
   "cell_type": "code",
   "execution_count": 23,
   "outputs": [
    {
     "data": {
      "text/plain": "<matplotlib.image.AxesImage at 0x13c0843d0>"
     },
     "execution_count": 23,
     "metadata": {},
     "output_type": "execute_result"
    },
    {
     "data": {
      "text/plain": "<Figure size 432x432 with 1 Axes>",
      "image/png": "[encoded data removed]"
     },
     "metadata": {
      "needs_background": "light"
     },
     "output_type": "display_data"
    }
   ],
   "source": [
    "dilatedImage =  paddedIm[border:border+height,border:border+width]\n",
    "plt.imshow(dilatedImage)\n",
    "\n",
    "\n",
    "# inV = cv2.VideoCapture(\"method2.mp4\")\n",
    "#\n",
    "# if not inV.isOpened():\n",
    "#     print(\"Error opening video stream or file\")\n",
    "# else:\n",
    "#     while inV.isOpened():\n",
    "#         retval, image = inV.read()\n",
    "#         if retval:\n",
    "#             cv2.imshow(\"Read\",image)\n",
    "#             if cv2.waitKey(25) & 0xFF == ord('q'):\n",
    "#                 break\n",
    "#         else:\n",
    "#             break\n",
    "#\n",
    "# inV.release()\n",
    "# cv2.destroyAllWindows()\n"
   ],
   "metadata": {
    "collapsed": false,
    "pycharm": {
     "name": "#%%\n"
    }
   }
  }
 ],
 "metadata": {
  "kernelspec": {
   "display_name": "Python 3",
   "language": "python",
   "name": "python3"
  },
  "language_info": {
   "codemirror_mode": {
    "name": "ipython",
    "version": 2
   },
   "file_extension": ".py",
   "mimetype": "text/x-python",
   "name": "python",
   "nbconvert_exporter": "python",
   "pygments_lexer": "ipython2",
   "version": "2.7.6"
  }
 },
 "nbformat": 4,
 "nbformat_minor": 0
}