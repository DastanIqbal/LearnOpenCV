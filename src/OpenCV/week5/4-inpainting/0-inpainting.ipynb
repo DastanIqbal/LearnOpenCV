{
 "cells": [
  {
   "cell_type": "code",
   "execution_count": 1,
   "metadata": {
    "collapsed": true
   },
   "outputs": [],
   "source": [
    "import matplotlib.pyplot as plt\n",
    "import cv2 as cv\n",
    "import numpy as np\n",
    "from dataPath import DATA_PATH\n",
    "%matplotlib inline\n",
    "\n",
    "import matplotlib\n",
    "matplotlib.rcParams[\"figure.figsize\"] = (20,20)\n",
    "matplotlib.rcParams[\"image.cmap\"]=\"gray\""
   ]
  },
  {
   "cell_type": "code",
   "execution_count": 2,
   "outputs": [],
   "source": [
    "# OpenCV Utility Class for Mouse Handling\n",
    "class Sketcher:\n",
    "    def __init__(self, windowname, dests, colors_func):\n",
    "        self.prev_pt = None\n",
    "        self.windowname = windowname\n",
    "        self.dests = dests\n",
    "        self.colors_func = colors_func\n",
    "        self.dirty = False\n",
    "        self.show()\n",
    "        cv.setMouseCallback(self.windowname, self.on_mouse)\n",
    "\n",
    "    def show(self):\n",
    "        cv.imshow(self.windowname, self.dests[0])\n",
    "        cv.imshow(self.windowname + \": mask\", self.dests[1])\n",
    "\n",
    "    # onMouse function for Mouse Handling\n",
    "    def on_mouse(self, event, x, y, flags, param):\n",
    "        pt = (x, y)\n",
    "        if event == cv.EVENT_LBUTTONDOWN:\n",
    "            self.prev_pt = pt\n",
    "        elif event == cv.EVENT_LBUTTONUP:\n",
    "            self.prev_pt = None\n",
    "\n",
    "        if self.prev_pt and flags & cv.EVENT_FLAG_LBUTTON:\n",
    "            for dst, color in zip(self.dests, self.colors_func()):\n",
    "                cv.line(dst, self.prev_pt, pt, color, 5)\n",
    "            self.dirty = True\n",
    "            self.prev_pt = pt\n",
    "            self.show()"
   ],
   "metadata": {
    "collapsed": false,
    "pycharm": {
     "name": "#%%\n"
    }
   }
  },
  {
   "cell_type": "code",
   "execution_count": 3,
   "outputs": [
    {
     "data": {
      "text/plain": "((255, 255, 255), 255)"
     },
     "execution_count": 3,
     "metadata": {},
     "output_type": "execute_result"
    }
   ],
   "source": [
    "im = cv.imread(DATA_PATH+\"images/Lincoln.jpg\",cv.IMREAD_COLOR)\n",
    "img_mask = im.copy()\n",
    "\n",
    "inpaintMask = np.zeros(im.shape[:2],np.uint8)\n",
    "\n",
    "sketch = Sketcher(\"image\",[img_mask,inpaintMask],lambda :((255,255,255),255))\n",
    "sketch.colors_func()"
   ],
   "metadata": {
    "collapsed": false,
    "pycharm": {
     "name": "#%%\n"
    }
   }
  },
  {
   "cell_type": "code",
   "execution_count": null,
   "outputs": [],
   "source": [
    "while True:\n",
    "    ch = cv.waitKey()\n",
    "    if ch == 27:\n",
    "        break\n",
    "    if ch == ord('t'):\n",
    "        res = cv.inpaint(src=img_mask,inpaintMask=inpaintMask,inpaintRadius=3,flags=cv.INPAINT_TELEA)\n",
    "        cv.imshow(\"Inpaint Output using FMM\",res)\n",
    "    if ch == ord('n'):\n",
    "        res = cv.inpaint(src=img_mask,inpaintMask=inpaintMask,inpaintRadius=3,flags=cv.INPAINT_NS)\n",
    "        cv.imshow(\"Inpaint Output using NS\",res)\n",
    "\n",
    "    if ch == ord('r'):\n",
    "        img_mask[:]=im\n",
    "        inpaintMask[:] = 0\n",
    "        sketch.show()\n",
    "\n",
    "cv.destroyAllWindows()"
   ],
   "metadata": {
    "collapsed": false,
    "pycharm": {
     "name": "#%%\n",
     "is_executing": true
    }
   }
  }
 ],
 "metadata": {
  "kernelspec": {
   "display_name": "Python 3",
   "language": "python",
   "name": "python3"
  },
  "language_info": {
   "codemirror_mode": {
    "name": "ipython",
    "version": 2
   },
   "file_extension": ".py",
   "mimetype": "text/x-python",
   "name": "python",
   "nbconvert_exporter": "python",
   "pygments_lexer": "ipython2",
   "version": "2.7.6"
  }
 },
 "nbformat": 4,
 "nbformat_minor": 0
}