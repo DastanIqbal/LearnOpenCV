{
  "nbformat": 4,
  "nbformat_minor": 0,
  "metadata": {
    "colab": {
      "provenance": [],
      "gpuType": "T4",
      "authorship_tag": "ABX9TyMGR6LF1Qrico0aYUsa7nFW",
      "include_colab_link": true
    },
    "kernelspec": {
      "name": "python3",
      "display_name": "Python 3"
    },
    "language_info": {
      "name": "python"
    },
    "accelerator": "GPU"
  },
  "cells": [
    {
      "cell_type": "markdown",
      "metadata": {
        "id": "view-in-github",
        "colab_type": "text"
      },
      "source": [
        "<a href=\"https://colab.research.google.com/github/DastanIqbal/LearnOpenCV/blob/main/src/OpenCV/dlap/week6/ApplicationApperialMiniDataset.ipynb\" target=\"_parent\"><img src=\"https://colab.research.google.com/assets/colab-badge.svg\" alt=\"Open In Colab\"/></a>"
      ]
    },
    {
      "cell_type": "code",
      "execution_count": null,
      "metadata": {
        "id": "XP97FXrKbRu_"
      },
      "outputs": [],
      "source": [
        "# Download the dataset\n",
        "!wget -O mini-dataset.zip \"https://www.dropbox.com/sh/dmjj4tfz3qk4zpu/AACy-H1cHYsEpkP94p9W6hvQa?dl=1\"\n",
        "\n",
        "# Extract the dataset\n",
        "!unzip -q -u mini-dataset.zip"
      ]
    },
    {
      "cell_type": "code",
      "source": [
        "# Importing Libraries\n",
        "import tensorflow as tf\n",
        "from tensorflow.keras.preprocessing.image import ImageDataGenerator\n",
        "from tensorflow.keras.layers import Input, Softmax, Dense,Dropout,BatchNormalization,Flatten\n",
        "from tensorflow.keras.models import Model\n",
        "import numpy as np\n",
        "import matplotlib.pyplot as plt\n",
        "from sklearn.metrics import classification_report, confusion_matrix, ConfusionMatrixDisplay"
      ],
      "metadata": {
        "id": "1ADxiQ03b6Ig"
      },
      "execution_count": null,
      "outputs": []
    },
    {
      "cell_type": "markdown",
      "source": [
        "**Loading Data**"
      ],
      "metadata": {
        "id": "-pg9NLW6i94h"
      }
    },
    {
      "cell_type": "code",
      "source": [
        "# Defining Data Generator\n",
        "gen = ImageDataGenerator()\n",
        "# Defining  Batch Size and seed\n",
        "BATCH_SIZE = 8\n",
        "SEED = 21"
      ],
      "metadata": {
        "id": "8vZnDWecb9q5"
      },
      "execution_count": null,
      "outputs": []
    },
    {
      "cell_type": "code",
      "source": [
        "# Acquring Training images from the directory using flow_from_directory() method.\n",
        "train_datagen = gen.flow_from_directory(directory = '/content/train',\n",
        "                                        target_size = (224, 224),\n",
        "                                        color_mode = \"rgb\",\n",
        "                                        classes = None,\n",
        "                                        class_mode = \"categorical\",\n",
        "                                        batch_size = BATCH_SIZE,\n",
        "                                        shuffle = True,\n",
        "                                        seed = SEED,\n",
        "                                        interpolation = \"nearest\")"
      ],
      "metadata": {
        "id": "_Yp_ASy-eQuT"
      },
      "execution_count": null,
      "outputs": []
    },
    {
      "cell_type": "code",
      "source": [
        "# Acquring Validation images from the directory using flow_from_directory() method.\n",
        "val_datagen = gen.flow_from_directory(directory = '/content/val',\n",
        "                                      target_size = (224, 224),\n",
        "                                      color_mode = \"rgb\",\n",
        "                                      classes = None,\n",
        "                                      class_mode = \"categorical\",\n",
        "                                      batch_size = BATCH_SIZE,\n",
        "                                      shuffle = True,\n",
        "                                      seed = SEED,\n",
        "                                      interpolation = \"nearest\")"
      ],
      "metadata": {
        "id": "FkfvhY1WeRSI"
      },
      "execution_count": null,
      "outputs": []
    },
    {
      "cell_type": "code",
      "source": [
        "# Acquring Testing images from the directory using flow_from_directory() method.\n",
        "test_datagen = gen.flow_from_directory(directory = '/content/test',\n",
        "                                       target_size = (224, 224),\n",
        "                                       color_mode = \"rgb\",\n",
        "                                       classes = None,\n",
        "                                       class_mode = \"categorical\",\n",
        "                                       batch_size = 1,\n",
        "                                       shuffle = False, # Here Shuffle is set to False, so that we can test our model.\n",
        "                                       seed = SEED,\n",
        "                                       interpolation = \"nearest"
      ],
      "metadata": {
        "id": "k75Ois35eXRn"
      },
      "execution_count": null,
      "outputs": []
    },
    {
      "cell_type": "code",
      "source": [
        "# Classes of images in test dataset\n",
        "classes = ['Dress', 'Pants', 'Shirt', 'Shoes', 'Shorts']"
      ],
      "metadata": {
        "id": "vHwmm5Cjebd0"
      },
      "execution_count": null,
      "outputs": []
    },
    {
      "cell_type": "code",
      "source": [
        "# Preparing the Samples and Plot for displaying output\n",
        "\n",
        "# Create figure\n",
        "fig = plt.figure(figsize = (12, 12))\n",
        "for i in range(9):\n",
        "  plt.subplot(330 + 1 + i)\n",
        "  img, label = next(train_datagen)\n",
        "\n",
        "  label = label[0].astype('uint8')\n",
        "  label = np.squeeze(label)\n",
        "  label = np.argmax(label, axis = 0)\n",
        "\n",
        "  plt.axis('off')\n",
        "  plt.imshow(img[0].astype(np.uint8))\n",
        "  plt.title(classes[label])\n",
        "\n",
        "# Displaying the figure\n",
        "plt.show()"
      ],
      "metadata": {
        "id": "x2iI6vsQedmz"
      },
      "execution_count": null,
      "outputs": []
    },
    {
      "cell_type": "markdown",
      "source": [
        "**Initialize Pre-trained Model**"
      ],
      "metadata": {
        "id": "kYU_Uqtcenfl"
      }
    },
    {
      "cell_type": "code",
      "source": [
        "# Importing EfficientNet B7 Model\n",
        "image_model = tf.keras.applications.EfficientNetB7(include_top = False,\n",
        "                                                   weights ='imagenet',\n",
        "                                                   input_shape = (224, 224, 3),\n",
        "                                                   pooling = 'max')\n"
      ],
      "metadata": {
        "id": "jnWk1MncegGX"
      },
      "execution_count": null,
      "outputs": []
    },
    {
      "cell_type": "code",
      "source": [
        "# Printing Model Summary\n",
        "print(image_model.summary())"
      ],
      "metadata": {
        "id": "BIION08Cerab"
      },
      "execution_count": null,
      "outputs": []
    },
    {
      "cell_type": "code",
      "source": [
        "# Adding Dense, BatchNorm and Droupout layers to base model\n",
        "# to have output for 5 Class Classification\n",
        "x = Dense(1024, activation = 'relu')((image_model.output))\n",
        "x = Dropout(0.5)(x)\n",
        "x = Dense(512, activation = 'relu')(x)\n",
        "x = Dense(64, activation = 'relu')(x)\n",
        "x = BatchNormalization()(x)\n",
        "x = Dense(16, activation = 'relu')(x)\n",
        "predictions = Dense(5, activation = 'softmax')(x)\n",
        "\n",
        "# Define the input and output layers of the model\n",
        "model = Model(inputs = image_model.input, outputs = predictions)\n",
        "\n",
        "# Compile model and define Optimizer\n",
        "model.compile(optimizer = tf.keras.optimizers.Adam(0.0001),\n",
        "              loss = \"categorical_crossentropy\",\n",
        "              metrics = [\"accuracy\"])"
      ],
      "metadata": {
        "id": "cb3VrzRpetLp"
      },
      "execution_count": null,
      "outputs": []
    },
    {
      "cell_type": "code",
      "source": [
        "# Printing Final Model Summary\n",
        "model.summary()"
      ],
      "metadata": {
        "id": "WfDIkgPfe3SI"
      },
      "execution_count": null,
      "outputs": []
    },
    {
      "cell_type": "markdown",
      "source": [
        "**Callbacks**"
      ],
      "metadata": {
        "id": "oZQ8YuK4fHWx"
      }
    },
    {
      "cell_type": "code",
      "source": [
        "# Assigning Checkpoint Path for Saved Model\n",
        "filepath = '/content/Models/apparel-classification-mini-dataset-EfNetB7_15Epochs.h5'"
      ],
      "metadata": {
        "id": "ZIZBJXcLfIgj"
      },
      "execution_count": null,
      "outputs": []
    },
    {
      "cell_type": "code",
      "source": [
        "# Defining ModelCheckpoint Callback\n",
        "model_save = tf.keras.callbacks.ModelCheckpoint(filepath,\n",
        "                                                monitor = \"val_accuracy\",\n",
        "                                                verbose = 0,\n",
        "                                                save_best_only = True,\n",
        "                                                save_weights_only = False,\n",
        "                                                mode = \"max\",\n",
        "                                                save_freq = \"epoch\")"
      ],
      "metadata": {
        "id": "R5Xm_d5mfMb4"
      },
      "execution_count": null,
      "outputs": []
    },
    {
      "cell_type": "code",
      "source": [
        "# Defining Reduce lr callback\n",
        "reduce_lr = tf.keras.callbacks.ReduceLROnPlateau(monitor = 'val_loss',\n",
        "                                                 factor = 0.1,\n",
        "                                                 patience = 6,\n",
        "                                                 verbose = 1,\n",
        "                                                 min_delta = 5*1e-3,\n",
        "                                                 min_lr = 5*1e-9,)"
      ],
      "metadata": {
        "id": "cWMGUyNPfe5w"
      },
      "execution_count": null,
      "outputs": []
    },
    {
      "cell_type": "code",
      "source": [
        "# Saving callbacks in a list\n",
        "callback = [model_save, reduce_lr]"
      ],
      "metadata": {
        "id": "HHQzpQSwfo_z"
      },
      "execution_count": null,
      "outputs": []
    },
    {
      "cell_type": "markdown",
      "source": [
        "**Model Training**"
      ],
      "metadata": {
        "id": "ch4a_8Vsfsl3"
      }
    },
    {
      "cell_type": "code",
      "source": [
        "# Training the model\n",
        "history = model.fit(train_datagen,\n",
        "                    epochs = 15,\n",
        "                    steps_per_epoch = (len(train_datagen)),\n",
        "                    validation_data = val_datagen,\n",
        "                    validation_steps = (len(val_datagen)),\n",
        "                    shuffle = False,\n",
        "                    callbacks = callback)"
      ],
      "metadata": {
        "id": "PUPgTNATfu0F"
      },
      "execution_count": null,
      "outputs": []
    },
    {
      "cell_type": "code",
      "source": [
        "# Summarize history for loss\n",
        "tr_losses = history.history['loss']\n",
        "val_losses = history.history['val_loss']\n",
        "tr_accs = history.history['accuracy']\n",
        "val_accs = history.history['val_accuracy']\n",
        "plt.plot(tr_losses, label = \"train_loss\")\n",
        "plt.plot(val_losses, label = \"val_loss\")\n",
        "plt.xlabel(\"Number of epochs\")\n",
        "plt.ylabel(\"Loss\")\n",
        "plt.grid()\n",
        "plt.legend()\n",
        "plt.show()"
      ],
      "metadata": {
        "id": "gASJPe5YfxQe"
      },
      "execution_count": null,
      "outputs": []
    },
    {
      "cell_type": "code",
      "source": [
        "# Summarize history for accuracy\n",
        "plt.plot(tr_accs, label = \"acc_train\")\n",
        "plt.plot(val_accs, label = \"acc_val\")\n",
        "plt.ylim((0.3, 1.))\n",
        "plt.xlabel(\"Number of epochs\")\n",
        "plt.ylabel(\"Accuracy\")\n",
        "plt.grid()\n",
        "plt.legend()\n",
        "plt.show()"
      ],
      "metadata": {
        "id": "-SDNGuVAf0H6"
      },
      "execution_count": null,
      "outputs": []
    },
    {
      "cell_type": "markdown",
      "source": [
        "**Model Evaluation**"
      ],
      "metadata": {
        "id": "uxo_SDLTf358"
      }
    },
    {
      "cell_type": "code",
      "source": [
        "# Prediction Function\n",
        "predictions = model.predict(test_datagen, verbose = 1, steps = (len(test_datagen)))"
      ],
      "metadata": {
        "id": "-zQrzHWgf2Tv"
      },
      "execution_count": null,
      "outputs": []
    },
    {
      "cell_type": "code",
      "source": [
        "# Only save class with highest confidence for each image\n",
        "predictions.squeeze().argmax(axis = 1)"
      ],
      "metadata": {
        "id": "Vm3ovhE-f654"
      },
      "execution_count": null,
      "outputs": []
    },
    {
      "cell_type": "code",
      "source": [
        "# Classification Report\n",
        "print(classification_report(test_datagen.classes, predictions.squeeze().argmax(axis = 1)))"
      ],
      "metadata": {
        "id": "j-1V72__f8_q"
      },
      "execution_count": null,
      "outputs": []
    },
    {
      "cell_type": "code",
      "source": [
        "# Confusion Matrix\n",
        "print('Confusion Matrix')\n",
        "cm = confusion_matrix(test_datagen.classes, predictions.squeeze().argmax(axis = 1))\n",
        "\n",
        "disp = ConfusionMatrixDisplay(confusion_matrix=cm, display_labels=classes)\n",
        "\n",
        "disp = disp.plot(include_values = True,\n",
        "                 values_format = 'd',\n",
        "                 cmap = 'viridis',\n",
        "                 ax = None,\n",
        "                 xticks_rotation = 'horizontal')\n",
        "\n",
        "plt.show()"
      ],
      "metadata": {
        "id": "BiYwkiECiA4d"
      },
      "execution_count": null,
      "outputs": []
    },
    {
      "cell_type": "markdown",
      "source": [
        "**External Test Images**"
      ],
      "metadata": {
        "id": "YmHtBpa6iEK2"
      }
    },
    {
      "cell_type": "code",
      "source": [
        "def test(path):\n",
        "\n",
        "  # Load the image using keras\n",
        "  img = tf.keras.preprocessing.image.load_img(path,\n",
        "                                              grayscale = False,\n",
        "                                              color_mode = 'rgb',\n",
        "                                              target_size = (224, 224, 3),\n",
        "                                              interpolation = 'nearest')\n",
        "\n",
        "  # Display the image\n",
        "  plt.imshow(img)\n",
        "  plt.axis('off')\n",
        "\n",
        "  # Convert image to array for feeding it to the model\n",
        "  img_array = np.asarray(img)\n",
        "\n",
        "  # Expand dimension of img array\n",
        "  img_array = np.expand_dims(img_array, 0)\n",
        "\n",
        "  # Take prediction\n",
        "  predictions = model.predict(img_array)\n",
        "\n",
        "  # Evaluate Score\n",
        "  score = predictions[0]\n",
        "\n",
        "  return print('This image is a {} with a {:.2f} % confidence.'.format(classes[np.argmax(score)], 100 * np.max(score)))"
      ],
      "metadata": {
        "id": "I-dxux0liGpS"
      },
      "execution_count": null,
      "outputs": []
    },
    {
      "cell_type": "code",
      "source": [
        "# Download test images\n",
        "!wget -O test-images.zip \"https://www.dropbox.com/sh/2hpc50t687r0fdt/AADokyQsM-0kacFVl5KL-ONTa?dl=1\"\n",
        "\n",
        "# Extract images\n",
        "!unzip -q -u test-images.zip"
      ],
      "metadata": {
        "id": "ea9dMzJ1iI27"
      },
      "execution_count": null,
      "outputs": []
    },
    {
      "cell_type": "code",
      "source": [
        "# Testing Image\n",
        "test('/content/test-image-1.jpg')"
      ],
      "metadata": {
        "id": "9Eq6ER9LiJdh"
      },
      "execution_count": null,
      "outputs": []
    },
    {
      "cell_type": "code",
      "source": [
        "# Testing Image\n",
        "test('/content/test-image-2.jpg')"
      ],
      "metadata": {
        "id": "cD2UnIfEiMJM"
      },
      "execution_count": null,
      "outputs": []
    },
    {
      "cell_type": "code",
      "source": [
        "# Testing Image\n",
        "test('/content/test-image-3.jpg')"
      ],
      "metadata": {
        "id": "5VcdKcZviOUO"
      },
      "execution_count": null,
      "outputs": []
    },
    {
      "cell_type": "code",
      "source": [
        "# Testing Image\n",
        "test('/content/test-image-4.jpg')"
      ],
      "metadata": {
        "id": "rRtkP1LHiQeW"
      },
      "execution_count": null,
      "outputs": []
    },
    {
      "cell_type": "code",
      "source": [
        "# Testing Image\n",
        "test('/content/test-image-5.jpg')"
      ],
      "metadata": {
        "id": "BpKxFlE1itKb"
      },
      "execution_count": null,
      "outputs": []
    },
    {
      "cell_type": "code",
      "source": [],
      "metadata": {
        "id": "51BShDzSiurC"
      },
      "execution_count": null,
      "outputs": []
    }
  ]
}