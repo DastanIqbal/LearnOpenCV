{
 "cells": [
  {
   "cell_type": "markdown",
   "metadata": {},
   "source": [
    "## Ordinary Procrustes Analysis:\n",
    "\n",
    "Extract translation, rotation and scaling "
   ]
  },
  {
   "cell_type": "code",
   "execution_count": 63,
   "metadata": {},
   "outputs": [
    {
     "name": "stdout",
     "output_type": "stream",
     "text": [
      "Centroid: [3.]\n",
      "Tranlates to 0.0:\n",
      " [[-2.]\n",
      " [ 0.]\n",
      " [ 2.]]\n",
      "Scale: 1.6329932\n",
      "Removed scale:\n",
      " [[-1.2247448]\n",
      " [ 0.       ]\n",
      " [ 1.2247448]]\n",
      "[[-1.2247448  0.         1.2247448]]\n",
      "Rotation: [[ 0.0000000e+00  4.9999997e-01  0.0000000e+00]\n",
      " [ 0.0000000e+00 -0.0000000e+00  0.0000000e+00]\n",
      " [-7.1329935e-17 -4.9999997e-01  0.0000000e+00]]\n",
      "Scale Matrix:[[ 0.0000000e+00  4.9999997e-01  0.0000000e+00]\n",
      " [ 0.0000000e+00 -0.0000000e+00  0.0000000e+00]\n",
      " [-7.1329935e-17 -4.9999997e-01  0.0000000e+00]]\n",
      "Translation Matrix:[[3.        1.5000001 3.       ]\n",
      " [3.        3.        3.       ]\n",
      " [3.        4.5       3.       ]]\n"
     ]
    },
    {
     "data": {
      "text/plain": [
       "matrix([[ 0.00000000e+00,  4.99999970e-01,  0.00000000e+00,\n",
       "          3.00000000e+00,  1.50000012e+00,  3.00000000e+00],\n",
       "        [ 0.00000000e+00, -0.00000000e+00,  0.00000000e+00,\n",
       "          3.00000000e+00,  3.00000000e+00,  3.00000000e+00],\n",
       "        [-7.13299349e-17, -4.99999970e-01,  0.00000000e+00,\n",
       "          3.00000000e+00,  4.50000000e+00,  3.00000000e+00],\n",
       "        [ 0.00000000e+00,  0.00000000e+00,  1.00000000e+00,\n",
       "          0.00000000e+00,  0.00000000e+00,  1.00000000e+00]])"
      ]
     },
     "execution_count": 63,
     "metadata": {},
     "output_type": "execute_result"
    }
   ],
   "source": [
    "import numpy as np\n",
    "\n",
    "#  Find Centroid np.mean\n",
    "points1 = np.array([[1], [3], [5]], dtype=np.float32)   #Centroid [3,4]\n",
    "points2 = np.array([[3], [5],[1]], dtype=np.float32)   #Centroid [3,4]\n",
    "# points1 = np.array([[1], [3], [5]], dtype=np.float32)   #Centroid [3]\n",
    "# points1 = np.array([1, 3, 5], dtype=np.float32)   #Centroid 3\n",
    "\n",
    "centroid1 = np.mean(points1, axis=0) \n",
    "centroid2 = np.mean(points2, axis=0) \n",
    "print(\"Centroid: \" +str(centroid1)) \n",
    "\n",
    "# Subtract the centroid from each point in the respective set. \n",
    "# This translates each shape so that its centroid coincides with the origin (0, 0).\n",
    "points1 -= centroid1\n",
    "points2 -= centroid2\n",
    "print(\"Tranlates to 0.0:\\n \" + str(points1))\n",
    "\n",
    "# The np.std() function is used to estimate the scale or size of the centered point sets. \n",
    "# This information is essential for scaling the shapes appropriately before proceeding with \n",
    "# further alignment steps like rotation and translation.\n",
    "s1 =  np.std(points1)\n",
    "s2 =  np.std(points2)\n",
    "print(\"Scale: \" + str(s1))\n",
    "\n",
    "# Divide each point set by its standard deviation. This removes the scaling component of the problem.\n",
    "points1 /= s1\n",
    "points2 /= s2\n",
    "print(\"Removed scale:\\n \" + str(points1))\n",
    "\n",
    "#Calculate the rotation portion using the Singular Value Decomposition\n",
    "# U: An orthogonal matrix.\n",
    "# S: A diagonal matrix containing singular values.\n",
    "# Vt: The transpose of another orthogonal matrix.\n",
    "\n",
    "print(points1.T) # Transpose Matrix\n",
    "U, S, Vt = np.linalg.svd(points1.T * points2)\n",
    "R = (U * Vt).T\n",
    "\n",
    "print(\"Rotation: \"+str(R))\n",
    "\n",
    "c1 = centroid1\n",
    "c2 = centroid2\n",
    "scale_rotation = (s2 / s1) * R\n",
    "translation = c2.T - (s2 / s1) * R * c1.T\n",
    "print(\"Scale Matrix:\" + str(scale_rotation))\n",
    "print(\"Translation Matrix:\" + str(translation))\n",
    "mat2x3 = np.hstack((scale_rotation,translation)) # 3x6 Matrix\n",
    "np.vstack([mat2x3,np.matrix([0., 0., 1., 0,0,1])])\n"
   ]
  }
 ],
 "metadata": {
  "kernelspec": {
   "display_name": ".venv",
   "language": "python",
   "name": "python3"
  },
  "language_info": {
   "codemirror_mode": {
    "name": "ipython",
    "version": 3
   },
   "file_extension": ".py",
   "mimetype": "text/x-python",
   "name": "python",
   "nbconvert_exporter": "python",
   "pygments_lexer": "ipython3",
   "version": "3.12.4"
  }
 },
 "nbformat": 4,
 "nbformat_minor": 2
}
