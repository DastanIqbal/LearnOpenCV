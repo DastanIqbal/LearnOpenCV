{
  "cells": [
    {
      "cell_type": "markdown",
      "metadata": {
        "id": "view-in-github",
        "colab_type": "text"
      },
      "source": [
        "<a href=\"https://colab.research.google.com/github/DastanIqbal/LearnOpenCV/blob/main/src/OpenCV/dlap/week5/assignment.ipynb\" target=\"_parent\"><img src=\"https://colab.research.google.com/assets/colab-badge.svg\" alt=\"Open In Colab\"/></a>"
      ]
    },
    {
      "cell_type": "markdown",
      "metadata": {
        "nbgrader": {
          "grade": false,
          "locked": true,
          "solution": false
        },
        "editable": false,
        "deletable": false,
        "id": "gJYw3kl8SX3c"
      },
      "source": [
        "# Improving CNN Training"
      ]
    },
    {
      "cell_type": "markdown",
      "metadata": {
        "nbgrader": {
          "grade": false,
          "locked": true,
          "solution": false
        },
        "editable": false,
        "deletable": false,
        "id": "swJQ5NUvSX3d"
      },
      "source": [
        "This assignment is aimed at reinforcing your knowledge about the training process for a CNN. Given below is the task:\n",
        "\n",
        "### <font color=\"green\">Situation</font>\n",
        "**We have given the code for training a CNN using the SGD optimizer. On running the training for 5 epochs we found that the Training accuracy we get is only 10%.**\n",
        "\n",
        "### <font color=\"green\">Your Task</font>\n",
        "Your task is to improve the overall training process, so that we get higher Training accuracy. You can change any parameter you may find suitable ( we have provided some hints in Section 4. ).\n",
        "\n",
        "**Only Section 4 is the place where you need to make changes.**\n",
        "\n",
        "The distribution of marks is as follows:\n",
        "```\n",
        "1. Training Accuracy > 30% - 5 marks\n",
        "1. Training Accuracy > 50% - 10 marks\n",
        "1. Training Accuracy > 65% - 15 marks\n",
        "```\n",
        "\n",
        "P.S. We were able to achieve 68% Training accuracy by changing a few things from the current configuration.\n",
        "\n",
        "#### <font color=\"red\">NOTE: You can also download the NB and run your experiments on Google Colab or Kaggle and when you think you have got the solution, you can add the code in section 4 and submit.</font>\n",
        "\n",
        "### <font color=\"green\">The assignment carries 30 marks and you will have a total of 5 attempts. The grading will be done manually.</font>"
      ]
    },
    {
      "cell_type": "markdown",
      "metadata": {
        "nbgrader": {
          "grade": false,
          "locked": true,
          "solution": false
        },
        "editable": false,
        "deletable": false,
        "id": "MgrgnwrtSX3d"
      },
      "source": [
        "## 1. Import necessary modules"
      ]
    },
    {
      "cell_type": "code",
      "execution_count": null,
      "metadata": {
        "collapsed": true,
        "nbgrader": {
          "grade": false,
          "locked": true,
          "solution": false
        },
        "editable": false,
        "deletable": false,
        "id": "WvIExM-dSX3d"
      },
      "outputs": [],
      "source": [
        "import numpy as np\n",
        "import tensorflow as tf\n",
        "import matplotlib.pyplot as plt\n",
        "from tensorflow.keras.datasets import cifar10\n",
        "from tensorflow.keras.utils import to_categorical\n",
        "from tensorflow.keras.models import Sequential\n",
        "from tensorflow.keras.layers import Dense, Conv2D, MaxPooling2D, Dropout, Flatten, BatchNormalization\n",
        "from tensorflow.keras.preprocessing.image import ImageDataGenerator"
      ]
    },
    {
      "cell_type": "code",
      "execution_count": null,
      "metadata": {
        "collapsed": true,
        "nbgrader": {
          "grade": false,
          "locked": true,
          "solution": false
        },
        "editable": false,
        "deletable": false,
        "id": "QNkQRQnkSX3e"
      },
      "outputs": [],
      "source": [
        "# set random seed\n",
        "np.random.seed(2020)"
      ]
    },
    {
      "cell_type": "markdown",
      "metadata": {
        "id": "ZkIVK5V50N_U",
        "nbgrader": {
          "grade": false,
          "locked": true,
          "solution": false
        },
        "editable": false,
        "deletable": false
      },
      "source": [
        "## 2. Load Dataset"
      ]
    },
    {
      "cell_type": "code",
      "execution_count": null,
      "metadata": {
        "colab": {
          "base_uri": "https://localhost:8080/"
        },
        "id": "eVOlpnc20MLD",
        "nbgrader": {
          "grade": false,
          "locked": true,
          "solution": false
        },
        "outputId": "9d495488-3e44-4693-b0c0-c2f6802e27fb",
        "editable": false,
        "deletable": false
      },
      "outputs": [
        {
          "output_type": "stream",
          "name": "stdout",
          "text": [
            "Downloading data from https://www.cs.toronto.edu/~kriz/cifar-10-python.tar.gz\n",
            "\u001b[1m170498071/170498071\u001b[0m \u001b[32m━━━━━━━━━━━━━━━━━━━━\u001b[0m\u001b[37m\u001b[0m \u001b[1m6s\u001b[0m 0us/step\n",
            "Training data shape:  (50000, 32, 32, 3) (50000, 1)\n",
            "Testing data shape:  (10000, 32, 32, 3) (10000, 1)\n"
          ]
        }
      ],
      "source": [
        "from tensorflow.keras.datasets import cifar10\n",
        "(train_images, train_labels), (test_images, test_labels) = cifar10.load_data()\n",
        "\n",
        "# Training data shape\n",
        "train_images_shape = train_images.shape\n",
        "# Training labels shape\n",
        "train_labels_shape = train_labels.shape\n",
        "\n",
        "print('Training data shape: ', train_images_shape, train_labels_shape)\n",
        "\n",
        "# Testing data shape\n",
        "test_images_shape = test_images.shape\n",
        "# Testing labels shape\n",
        "test_labels_shape = test_labels.shape\n",
        "\n",
        "print('Testing data shape: ', test_images_shape, test_labels_shape)"
      ]
    },
    {
      "cell_type": "markdown",
      "metadata": {
        "id": "irh47X0i09q6",
        "nbgrader": {
          "grade": false,
          "locked": true,
          "solution": false
        },
        "editable": false,
        "deletable": false
      },
      "source": [
        "## 3. Preprocessing"
      ]
    },
    {
      "cell_type": "code",
      "execution_count": null,
      "metadata": {
        "collapsed": true,
        "id": "PHut-l1s08xX",
        "nbgrader": {
          "grade": false,
          "locked": true,
          "solution": false
        },
        "editable": false,
        "deletable": false
      },
      "outputs": [],
      "source": [
        "from tensorflow.keras.utils import to_categorical\n",
        "# Change to float datatype\n",
        "train_data = train_images.astype('float32')\n",
        "test_data = test_images.astype('float32')\n",
        "\n",
        "# Scale the data to lie between 0 to 1\n",
        "train_data /= 255\n",
        "test_data /= 255\n",
        "\n",
        "# Change the labels from integer to categorical data\n",
        "train_labels_one_hot = to_categorical(train_labels)\n",
        "test_labels_one_hot = to_categorical(test_labels)"
      ]
    },
    {
      "cell_type": "markdown",
      "metadata": {
        "id": "ZkthAU4Q2DYm",
        "nbgrader": {
          "grade": false,
          "locked": true,
          "solution": false
        },
        "editable": false,
        "deletable": false
      },
      "source": [
        "## <font color=\"red\">4. TODO</font>\n",
        "\n",
        "Currently, the model and optimizer is configured such that it gives very low accuracy ~10%. Your task is to explore options by modifying model and optimizer to get to more than 65% Training accuracy.\n",
        "\n",
        "Here are a few hints of what changes can help increase the accuracy in just 5 epochs:\n",
        "1. Changing the Model parameters like **`activation`** type, **`droupout`** ratio etc.\n",
        "1. Changing the **`optimizer`**\n",
        "1. Changing **`optimizer parameters`**"
      ]
    },
    {
      "cell_type": "markdown",
      "metadata": {
        "nbgrader": {
          "grade": false,
          "locked": true,
          "solution": false
        },
        "editable": false,
        "deletable": false,
        "id": "kJ-gye_cSX3f"
      },
      "source": [
        "## <font color=\"red\">4.1. Model Architecture</font>"
      ]
    },
    {
      "cell_type": "code",
      "execution_count": null,
      "metadata": {
        "collapsed": true,
        "id": "81aFmiBISX3f"
      },
      "outputs": [],
      "source": [
        "def createModel():\n",
        "    model = Sequential()\n",
        "\n",
        "    # feature extraction part\n",
        "    model.add(Conv2D(32, (3, 3), activation='relu', padding='same', input_shape=(32, 32, 3)))\n",
        "    model.add(Conv2D(32, (3, 3), activation='relu'))\n",
        "    model.add(MaxPooling2D(pool_size=(2, 2)))\n",
        "    # model.add(Dropout(0.25))\n",
        "\n",
        "    model.add(Conv2D(64, (3, 3), activation='relu', padding='same'))\n",
        "    model.add(Conv2D(64, (3, 3), activation='relu'))\n",
        "    model.add(MaxPooling2D(pool_size=(2, 2)))\n",
        "    # model.add(Dropout(0.25))\n",
        "\n",
        "    # model.add(Conv2D(64, (3, 3), activation='relu', padding='same'))\n",
        "    # model.add(Conv2D(64, (3, 3), activation='relu'))\n",
        "    # model.add(MaxPooling2D(pool_size=(2, 2)))\n",
        "    # model.add(Dropout(0.15))\n",
        "\n",
        "    # classification part\n",
        "    model.add(Flatten())\n",
        "    model.add(Dense(512, activation='relu'))\n",
        "    model.add(Dropout(0.35))\n",
        "    model.add(Dense(10, activation='softmax'))\n",
        "\n",
        "    return model"
      ]
    },
    {
      "cell_type": "markdown",
      "metadata": {
        "nbgrader": {
          "grade": false,
          "locked": true,
          "solution": false
        },
        "editable": false,
        "deletable": false,
        "id": "Y-6wO8pRSX3f"
      },
      "source": [
        "## <font color=\"red\">4.2. Configure Optimizer</font>"
      ]
    },
    {
      "cell_type": "code",
      "execution_count": null,
      "metadata": {
        "collapsed": true,
        "id": "_9LoL_vO2pg1",
        "nbgrader": {
          "grade": false,
          "locked": false,
          "solution": false
        }
      },
      "outputs": [],
      "source": [
        "from tensorflow.keras.optimizers import SGD, Adam, Adagrad, RMSprop\n",
        "optim = SGD(learning_rate=0.1)"
      ]
    },
    {
      "cell_type": "markdown",
      "metadata": {
        "id": "HqzPZEBB3sz6",
        "nbgrader": {
          "grade": false,
          "locked": true,
          "solution": false
        },
        "editable": false,
        "deletable": false
      },
      "source": [
        "## 5. Train Model\n",
        "The model training runs for 5 epochs and the training/testing accuracy is printed along with every iteration.\n",
        "\n",
        "You should achieve as high accuracy as possible within 5 epochs by changing parameters as mentioned above.\n",
        "\n",
        "**Tip:** You can make out from the first 2-3 epochs if it is going in the correct direction. You dont need to to wait for 5 epochs if you think it is not going to work.\n",
        "\n",
        "#### <font color=\"red\">NOTE: You can also download the NB and run your experiments on Google Colab or Kaggle and when you think you have got the solution, you can add the code in section 4 and submit.</font>\n"
      ]
    },
    {
      "cell_type": "code",
      "execution_count": null,
      "metadata": {
        "colab": {
          "base_uri": "https://localhost:8080/"
        },
        "id": "pZN1nAfS3r5T",
        "nbgrader": {
          "grade": false,
          "locked": true,
          "solution": false
        },
        "outputId": "43984ef5-4178-4d11-8b29-2cc46e7883f8",
        "editable": false,
        "deletable": false
      },
      "outputs": [
        {
          "output_type": "stream",
          "name": "stdout",
          "text": [
            "Epoch 1/5\n",
            "\u001b[1m782/782\u001b[0m \u001b[32m━━━━━━━━━━━━━━━━━━━━\u001b[0m\u001b[37m\u001b[0m \u001b[1m7s\u001b[0m 7ms/step - accuracy: 0.2610 - loss: 2.0332 - val_accuracy: 0.3637 - val_loss: 1.7330\n",
            "Epoch 2/5\n",
            "\u001b[1m782/782\u001b[0m \u001b[32m━━━━━━━━━━━━━━━━━━━━\u001b[0m\u001b[37m\u001b[0m \u001b[1m3s\u001b[0m 4ms/step - accuracy: 0.4729 - loss: 1.4620 - val_accuracy: 0.5237 - val_loss: 1.3317\n",
            "Epoch 3/5\n",
            "\u001b[1m782/782\u001b[0m \u001b[32m━━━━━━━━━━━━━━━━━━━━\u001b[0m\u001b[37m\u001b[0m \u001b[1m5s\u001b[0m 5ms/step - accuracy: 0.5696 - loss: 1.2180 - val_accuracy: 0.5565 - val_loss: 1.2481\n",
            "Epoch 4/5\n",
            "\u001b[1m782/782\u001b[0m \u001b[32m━━━━━━━━━━━━━━━━━━━━\u001b[0m\u001b[37m\u001b[0m \u001b[1m5s\u001b[0m 4ms/step - accuracy: 0.6364 - loss: 1.0423 - val_accuracy: 0.6311 - val_loss: 1.0460\n",
            "Epoch 5/5\n",
            "\u001b[1m782/782\u001b[0m \u001b[32m━━━━━━━━━━━━━━━━━━━━\u001b[0m\u001b[37m\u001b[0m \u001b[1m3s\u001b[0m 4ms/step - accuracy: 0.6834 - loss: 0.9040 - val_accuracy: 0.6627 - val_loss: 0.9713\n"
          ]
        }
      ],
      "source": [
        "model = createModel()\n",
        "model.compile(optimizer=optim, loss='categorical_crossentropy', metrics=['accuracy'])\n",
        "history = model.fit(train_data, train_labels_one_hot, epochs=5, batch_size=64, validation_data=(test_data, test_labels_one_hot), verbose=1, shuffle=False)"
      ]
    },
    {
      "cell_type": "markdown",
      "metadata": {
        "id": "n6urUzWR3cw5",
        "nbgrader": {
          "grade": false,
          "locked": true,
          "solution": false
        },
        "editable": false,
        "deletable": false
      },
      "source": [
        "## 6. Plot Training and Validation Loss and Classification Accuracy"
      ]
    },
    {
      "cell_type": "code",
      "source": [
        "print(history.history.keys())\n",
        "print(history.history[\"loss\"])\n",
        "print(history.history[\"accuracy\"])"
      ],
      "metadata": {
        "id": "P7zprnYvkzj5",
        "outputId": "29e956a6-e1a5-45fc-af40-63be6b3773ff",
        "colab": {
          "base_uri": "https://localhost:8080/"
        }
      },
      "execution_count": null,
      "outputs": [
        {
          "output_type": "stream",
          "name": "stdout",
          "text": [
            "dict_keys(['accuracy', 'loss', 'val_accuracy', 'val_loss'])\n",
            "[1.8146990537643433, 1.3907129764556885, 1.1688039302825928, 1.0037356615066528, 0.8726164698600769]\n",
            "[0.34567999839782715, 0.5004799962043762, 0.5873799920082092, 0.648419976234436, 0.6930199861526489]\n"
          ]
        }
      ]
    },
    {
      "cell_type": "code",
      "execution_count": null,
      "metadata": {
        "colab": {
          "base_uri": "https://localhost:8080/",
          "height": 339
        },
        "collapsed": true,
        "id": "l9UCGh1d3pnG",
        "nbgrader": {
          "grade": false,
          "locked": true,
          "solution": false
        },
        "outputId": "9ed71e33-183f-43f3-b32b-ad3e1c516ae2",
        "editable": false,
        "deletable": false
      },
      "outputs": [
        {
          "output_type": "display_data",
          "data": {
            "text/plain": [
              "<Figure size 2000x600 with 2 Axes>"
            ],
            "image/png": "[encoded data removed]"
          },
          "metadata": {}
        }
      ],
      "source": [
        "plt.figure(figsize=[20,6])\n",
        "# plot loss\n",
        "plt.subplot(121)\n",
        "plt.title('Cross Entropy Loss')\n",
        "plt.plot(history.history['loss'], color='red', label='train')\n",
        "plt.legend(['Training Loss'],fontsize=18)\n",
        "plt.xlabel('Epochs ',fontsize=16)\n",
        "plt.ylabel('Loss',fontsize=16)\n",
        "plt.title('Loss Curve',fontsize=16)\n",
        "# plot accuracy\n",
        "plt.subplot(122)\n",
        "plt.title('Classification Accuracy')\n",
        "plt.plot(history.history['accuracy'], color='red', label='train')\n",
        "plt.legend(['Training Accuracy'],fontsize=18)\n",
        "plt.xlabel('Epochs ',fontsize=16)\n",
        "plt.ylabel('Accuracy',fontsize=16)\n",
        "plt.title('Accuracy Curve',fontsize=16)\n",
        "plt.show()"
      ]
    }
  ],
  "metadata": {
    "kernelspec": {
      "display_name": "Python 3.7",
      "language": "python",
      "name": "python37"
    },
    "language_info": {
      "codemirror_mode": {
        "name": "ipython",
        "version": 3
      },
      "file_extension": ".py",
      "mimetype": "text/x-python",
      "name": "python",
      "nbconvert_exporter": "python",
      "pygments_lexer": "ipython3",
      "version": "3.7.5"
    },
    "colab": {
      "provenance": [],
      "gpuType": "T4",
      "include_colab_link": true
    },
    "accelerator": "GPU"
  },
  "nbformat": 4,
  "nbformat_minor": 0
}