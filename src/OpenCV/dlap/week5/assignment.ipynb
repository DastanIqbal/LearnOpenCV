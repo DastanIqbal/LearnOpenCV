{
    "cells": [
        {
            "cell_type": "markdown",
            "metadata": {
                "nbgrader": {
                    "grade": false,
                    "locked": true,
                    "solution": false
                },
                "editable": false,
                "deletable": false
            },
            "source": [
                "# Improving CNN Training"
            ]
        },
        {
            "cell_type": "markdown",
            "metadata": {
                "nbgrader": {
                    "grade": false,
                    "locked": true,
                    "solution": false
                },
                "editable": false,
                "deletable": false
            },
            "source": [
                "This assignment is aimed at reinforcing your knowledge about the training process for a CNN. Given below is the task:\n",
                "\n",
                "### <font color=\"green\">Situation<\/font>\n",
                "**We have given the code for training a CNN using the SGD optimizer. On running the training for 5 epochs we found that the Training accuracy we get is only 10%.**\n",
                "\n",
                "### <font color=\"green\">Your Task<\/font>\n",
                "Your task is to improve the overall training process, so that we get higher Training accuracy. You can change any parameter you may find suitable ( we have provided some hints in Section 4. ). \n",
                "\n",
                "**Only Section 4 is the place where you need to make changes.**\n",
                "\n",
                "The distribution of marks is as follows:\n",
                "```\n",
                "1. Training Accuracy > 30% - 5 marks\n",
                "1. Training Accuracy > 50% - 10 marks\n",
                "1. Training Accuracy > 65% - 15 marks\n",
                "```\n",
                "\n",
                "P.S. We were able to achieve 68% Training accuracy by changing a few things from the current configuration.\n",
                "\n",
                "#### <font color=\"red\">NOTE: You can also download the NB and run your experiments on Google Colab or Kaggle and when you think you have got the solution, you can add the code in section 4 and submit.<\/font>\n",
                "\n",
                "### <font color=\"green\">The assignment carries 30 marks and you will have a total of 5 attempts. The grading will be done manually.<\/font>"
            ]
        },
        {
            "cell_type": "markdown",
            "metadata": {
                "nbgrader": {
                    "grade": false,
                    "locked": true,
                    "solution": false
                },
                "editable": false,
                "deletable": false
            },
            "source": [
                "## 1. Import necessary modules"
            ]
        },
        {
            "cell_type": "code",
            "execution_count": 3,
            "metadata": {
                "collapsed": true,
                "nbgrader": {
                    "grade": false,
                    "locked": true,
                    "solution": false
                },
                "editable": false,
                "deletable": false
            },
            "outputs": [],
            "source": [
                "import numpy as np\n",
                "import tensorflow as tf\n",
                "import matplotlib.pyplot as plt\n",
                "from tensorflow.keras.datasets import cifar10\n",
                "from tensorflow.keras.utils import to_categorical\n",
                "from tensorflow.keras.models import Sequential\n",
                "from tensorflow.keras.layers import Dense, Conv2D, MaxPooling2D, Dropout, Flatten, BatchNormalization\n",
                "from tensorflow.keras.preprocessing.image import ImageDataGenerator"
            ]
        },
        {
            "cell_type": "code",
            "execution_count": 4,
            "metadata": {
                "collapsed": true,
                "nbgrader": {
                    "grade": false,
                    "locked": true,
                    "solution": false
                },
                "editable": false,
                "deletable": false
            },
            "outputs": [],
            "source": [
                "# set random seed\n",
                "np.random.seed(2020)"
            ]
        },
        {
            "cell_type": "markdown",
            "metadata": {
                "colab_type": "text",
                "id": "ZkIVK5V50N_U",
                "nbgrader": {
                    "grade": false,
                    "locked": true,
                    "solution": false
                },
                "editable": false,
                "deletable": false
            },
            "source": [
                "## 2. Load Dataset"
            ]
        },
        {
            "cell_type": "code",
            "execution_count": 5,
            "metadata": {
                "colab": {
                    "base_uri": "https:\/\/localhost:8080\/",
                    "height": 138
                },
                "colab_type": "code",
                "id": "eVOlpnc20MLD",
                "nbgrader": {
                    "grade": false,
                    "locked": true,
                    "solution": false
                },
                "outputId": "2855bdf4-4e3a-4f7e-dee7-9a9819ff6f5c",
                "editable": false,
                "deletable": false
            },
            "outputs": [
                {
                    "name": "stdout",
                    "output_type": "stream",
                    "text": [
                        "Training data shape:  (50000, 32, 32, 3) (50000, 1)\n",
                        "Testing data shape:  (10000, 32, 32, 3) (10000, 1)\n"
                    ]
                }
            ],
            "source": [
                "from tensorflow.keras.datasets import cifar10\n",
                "(train_images, train_labels), (test_images, test_labels) = cifar10.load_data()\n",
                "\n",
                "# Training data shape\n",
                "train_images_shape = train_images.shape\n",
                "# Training labels shape\n",
                "train_labels_shape = train_labels.shape\n",
                "\n",
                "print('Training data shape: ', train_images_shape, train_labels_shape)\n",
                "\n",
                "# Testing data shape\n",
                "test_images_shape = test_images.shape\n",
                "# Testing labels shape\n",
                "test_labels_shape = test_labels.shape\n",
                "\n",
                "print('Testing data shape: ', test_images_shape, test_labels_shape)"
            ]
        },
        {
            "cell_type": "markdown",
            "metadata": {
                "colab_type": "text",
                "id": "irh47X0i09q6",
                "nbgrader": {
                    "grade": false,
                    "locked": true,
                    "solution": false
                },
                "editable": false,
                "deletable": false
            },
            "source": [
                "## 3. Preprocessing"
            ]
        },
        {
            "cell_type": "code",
            "execution_count": 6,
            "metadata": {
                "colab": [],
                "colab_type": "code",
                "collapsed": true,
                "id": "PHut-l1s08xX",
                "nbgrader": {
                    "grade": false,
                    "locked": true,
                    "solution": false
                },
                "editable": false,
                "deletable": false
            },
            "outputs": [],
            "source": [
                "from tensorflow.keras.utils import to_categorical\n",
                "# Change to float datatype\n",
                "train_data = train_images.astype('float32')\n",
                "test_data = test_images.astype('float32')\n",
                "\n",
                "# Scale the data to lie between 0 to 1\n",
                "train_data \/= 255\n",
                "test_data \/= 255\n",
                "\n",
                "# Change the labels from integer to categorical data\n",
                "train_labels_one_hot = to_categorical(train_labels)\n",
                "test_labels_one_hot = to_categorical(test_labels)"
            ]
        },
        {
            "cell_type": "markdown",
            "metadata": {
                "colab_type": "text",
                "id": "ZkthAU4Q2DYm",
                "nbgrader": {
                    "grade": false,
                    "locked": true,
                    "solution": false
                },
                "editable": false,
                "deletable": false
            },
            "source": [
                "## <font color=\"red\">4. TODO<\/font>\n",
                "\n",
                "Currently, the model and optimizer is configured such that it gives very low accuracy ~10%. Your task is to explore options by modifying model and optimizer to get to more than 65% Training accuracy.\n",
                "\n",
                "Here are a few hints of what changes can help increase the accuracy in just 5 epochs:\n",
                "1. Changing the Model parameters like **`activation`** type, **`droupout`** ratio etc.\n",
                "1. Changing the **`optimizer`**\n",
                "1. Changing **`optimizer parameters`**"
            ]
        },
        {
            "cell_type": "markdown",
            "metadata": {
                "nbgrader": {
                    "grade": false,
                    "locked": true,
                    "solution": false
                },
                "editable": false,
                "deletable": false
            },
            "source": [
                "## <font color=\"red\">4.1. Model Architecture<\/font>"
            ]
        },
        {
            "cell_type": "code",
            "execution_count": 15,
            "metadata": {
                "collapsed": true
            },
            "outputs": [],
            "source": [
                "def createModel():\n",
                "    model = Sequential()\n",
                "\n",
                "    # feature extraction part\n",
                "    model.add(Conv2D(32, (3, 3), activation='sigmoid', padding='same', input_shape=(32, 32, 3)))\n",
                "    model.add(Conv2D(32, (3, 3), activation='sigmoid'))\n",
                "    model.add(MaxPooling2D(pool_size=(2, 2)))\n",
                "    model.add(Dropout(0.25))\n",
                "\n",
                "    model.add(Conv2D(64, (3, 3), activation='sigmoid', padding='same'))\n",
                "    model.add(Conv2D(64, (3, 3), activation='sigmoid'))\n",
                "    model.add(MaxPooling2D(pool_size=(2, 2)))\n",
                "    model.add(Dropout(0.25))\n",
                "\n",
                "    model.add(Conv2D(64, (3, 3), activation='sigmoid', padding='same'))\n",
                "    model.add(Conv2D(64, (3, 3), activation='sigmoid'))\n",
                "    model.add(MaxPooling2D(pool_size=(2, 2)))\n",
                "    model.add(Dropout(0.25))\n",
                "\n",
                "    # classification part\n",
                "    model.add(Flatten())\n",
                "    model.add(Dense(512, activation='sigmoid'))\n",
                "    model.add(Dropout(0.5))\n",
                "    model.add(Dense(10, activation='softmax'))\n",
                "    \n",
                "    return model"
            ]
        },
        {
            "cell_type": "markdown",
            "metadata": {
                "nbgrader": {
                    "grade": false,
                    "locked": true,
                    "solution": false
                },
                "editable": false,
                "deletable": false
            },
            "source": [
                "## <font color=\"red\">4.2. Configure Optimizer<\/font>"
            ]
        },
        {
            "cell_type": "code",
            "execution_count": 22,
            "metadata": {
                "colab": [],
                "colab_type": "code",
                "collapsed": true,
                "id": "_9LoL_vO2pg1",
                "nbgrader": {
                    "grade": false,
                    "locked": false,
                    "solution": false
                }
            },
            "outputs": [],
            "source": [
                "from tensorflow.keras.optimizers import SGD, Adam, Adagrad, RMSprop\n",
                "\n",
                "optim = SGD(lr=0.0001)"
            ]
        },
        {
            "cell_type": "markdown",
            "metadata": {
                "colab_type": "text",
                "id": "HqzPZEBB3sz6",
                "nbgrader": {
                    "grade": false,
                    "locked": true,
                    "solution": false
                },
                "editable": false,
                "deletable": false
            },
            "source": [
                "## 5. Train Model\n",
                "The model training runs for 5 epochs and the training\/testing accuracy is printed along with every iteration.\n",
                "\n",
                "You should achieve as high accuracy as possible within 5 epochs by changing parameters as mentioned above.\n",
                "\n",
                "**Tip:** You can make out from the first 2-3 epochs if it is going in the correct direction. You dont need to to wait for 5 epochs if you think it is not going to work. \n",
                "\n",
                "#### <font color=\"red\">NOTE: You can also download the NB and run your experiments on Google Colab or Kaggle and when you think you have got the solution, you can add the code in section 4 and submit.<\/font>\n"
            ]
        },
        {
            "cell_type": "code",
            "execution_count": 23,
            "metadata": {
                "colab": {
                    "base_uri": "https:\/\/localhost:8080\/",
                    "height": 770
                },
                "colab_type": "code",
                "id": "pZN1nAfS3r5T",
                "nbgrader": {
                    "grade": false,
                    "locked": true,
                    "solution": false
                },
                "outputId": "0bc38e08-076d-47c2-f714-710fe73ad5f5",
                "editable": false,
                "deletable": false
            },
            "outputs": [
                {
                    "name": "stdout",
                    "output_type": "stream",
                    "text": [
                        "Train on 50000 samples, validate on 10000 samples\n",
                        "Epoch 1\/5\n",
                        "50000\/50000 [==============================] - 54s 1ms\/sample - loss: 1.7226 - accuracy: 0.3530 - val_loss: 1.3899 - val_accuracy: 0.4955\n",
                        "Epoch 2\/5\n",
                        "50000\/50000 [==============================] - 54s 1ms\/sample - loss: 1.2636 - accuracy: 0.5433 - val_loss: 1.0525 - val_accuracy: 0.6166\n",
                        "Epoch 3\/5\n",
                        "50000\/50000 [==============================] - 54s 1ms\/sample - loss: 1.0951 - accuracy: 0.6081 - val_loss: 0.9915 - val_accuracy: 0.6481\n",
                        "Epoch 4\/5\n",
                        "50000\/50000 [==============================] - 54s 1ms\/sample - loss: 0.9910 - accuracy: 0.6485 - val_loss: 0.8966 - val_accuracy: 0.6815\n",
                        "Epoch 5\/5\n",
                        "50000\/50000 [==============================] - 53s 1ms\/sample - loss: 0.9189 - accuracy: 0.6776 - val_loss: 0.8266 - val_accuracy: 0.7122\n"
                    ]
                }
            ],
            "source": [
                "model = createModel()\n",
                "model.compile(optimizer=optim, loss='categorical_crossentropy', metrics=['accuracy'])\n",
                "history = model.fit(train_data, train_labels_one_hot, epochs=5, batch_size=64, validation_data=(test_data, test_labels_one_hot), verbose=1, shuffle=False)"
            ]
        },
        {
            "cell_type": "markdown",
            "metadata": {
                "colab_type": "text",
                "id": "n6urUzWR3cw5",
                "nbgrader": {
                    "grade": false,
                    "locked": true,
                    "solution": false
                },
                "editable": false,
                "deletable": false
            },
            "source": [
                "## 6. Plot Training and Validation Loss and Classification Accuracy"
            ]
        },
        {
            "cell_type": "code",
            "execution_count": null,
            "metadata": {
                "colab": {
                    "base_uri": "https:\/\/localhost:8080\/",
                    "height": 429
                },
                "colab_type": "code",
                "collapsed": true,
                "id": "l9UCGh1d3pnG",
                "nbgrader": {
                    "grade": false,
                    "locked": true,
                    "solution": false
                },
                "outputId": "16d21b0b-ef0b-4410-bd6f-e3295426fab9",
                "editable": false,
                "deletable": false
            },
            "outputs": [],
            "source": [
                "plt.figure(figsize=[20,6])\n",
                "# plot loss\n",
                "plt.subplot(121)\n",
                "plt.title('Cross Entropy Loss')\n",
                "plt.plot(history.history['loss'], color='red', label='train')\n",
                "plt.legend(['Training Loss'],fontsize=18)\n",
                "plt.xlabel('Epochs ',fontsize=16)\n",
                "plt.ylabel('Loss',fontsize=16)\n",
                "plt.title('Loss Curve',fontsize=16)\n",
                "# plot accuracy\n",
                "plt.subplot(122)\n",
                "plt.title('Classification Accuracy')\n",
                "plt.plot(history.history['accuracy'], color='red', label='train')\n",
                "plt.legend(['Training Accuracy'],fontsize=18)\n",
                "plt.xlabel('Epochs ',fontsize=16)\n",
                "plt.ylabel('Accuracy',fontsize=16)\n",
                "plt.title('Accuracy Curve',fontsize=16)\n",
                "plt.show()"
            ]
        }
    ],
    "metadata": {
        "kernelspec": {
            "display_name": "Python 3.7",
            "language": "python",
            "name": "python37"
        },
        "language_info": {
            "codemirror_mode": {
                "name": "ipython",
                "version": 3
            },
            "file_extension": ".py",
            "mimetype": "text\/x-python",
            "name": "python",
            "nbconvert_exporter": "python",
            "pygments_lexer": "ipython3",
            "version": "3.7.5"
        }
    },
    "nbformat": 4,
    "nbformat_minor": 2
}
