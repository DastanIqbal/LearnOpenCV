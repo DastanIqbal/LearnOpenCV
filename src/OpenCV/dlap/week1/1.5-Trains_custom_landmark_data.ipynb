{
 "cells": [
  {
   "cell_type": "markdown",
   "metadata": {},
   "source": [
    "## How to Train a Custom Facial Landmark Detector\n",
    "Introduction\n",
    "To train a facial landmark detector, we need three pieces of information\n",
    "\n",
    "A few thousand images of containing faces.\n",
    "\n",
    "Bounding boxes corresponding to faces in those images.\n",
    "\n",
    "Accurately placed landmarks for each face in the image."
   ]
  },
  {
   "cell_type": "markdown",
   "metadata": {},
   "source": [
    "## Visualize Annotations 70 Points\n",
    "\n",
    "To visualize annotations, we will run script drawRectLandmarks.py\n",
    "\n",
    "This script randomly picks 50 files from datasets directory, draws rectangle around face using file _rect.txt and prints facial landmark number using file _bv70.txt."
   ]
  },
  {
   "cell_type": "code",
   "execution_count": null,
   "metadata": {},
   "outputs": [],
   "source": [
    "python drawRectLandmarks.py ../../../res/opencv-courses/facial_landmark_data 70"
   ]
  },
  {
   "cell_type": "markdown",
   "metadata": {},
   "source": [
    "## Train-Test Data Preparation\n",
    "We will train shape predictor on landmark data using Python code **trainFLD.py.**\n",
    "\n",
    "This code look for training_with_face_landmarks.xml and testing_with_face_landmarks.xml files in facial_landmark_data directory. Once you run the training code, it will tell you the approximate time required to train the landmark detector."
   ]
  },
  {
   "cell_type": "code",
   "execution_count": null,
   "metadata": {},
   "outputs": [],
   "source": [
    "python trainFLD.py ../../../res/opencv-courses/facial_landmark_data 70 "
   ]
  },
  {
   "cell_type": "markdown",
   "metadata": {},
   "source": [
    "## Generate 33 Points landmark data"
   ]
  },
  {
   "cell_type": "code",
   "execution_count": null,
   "metadata": {},
   "outputs": [],
   "source": [
    "python generate33Points.py ../../../res/opencv-courses/facial_landmark_data  "
   ]
  },
  {
   "cell_type": "markdown",
   "metadata": {},
   "source": [
    "## Visualize Annotations 33 Points"
   ]
  },
  {
   "cell_type": "code",
   "execution_count": null,
   "metadata": {},
   "outputs": [],
   "source": [
    "python drawRectLandmarks.py ../../../res/opencv-courses/facial_landmark_data 33"
   ]
  },
  {
   "cell_type": "markdown",
   "metadata": {},
   "source": [
    "## Training 33 Points Model"
   ]
  },
  {
   "cell_type": "code",
   "execution_count": null,
   "metadata": {},
   "outputs": [],
   "source": [
    "python trainFLD.py ../../../res/opencv-courses/facial_landmark_data 33"
   ]
  }
 ],
 "metadata": {
  "kernelspec": {
   "display_name": ".venv",
   "language": "python",
   "name": "python3"
  },
  "language_info": {
   "name": "python",
   "version": "3.12.4"
  }
 },
 "nbformat": 4,
 "nbformat_minor": 2
}
