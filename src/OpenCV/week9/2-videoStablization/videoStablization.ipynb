{
 "cells": [
  {
   "cell_type": "code",
   "execution_count": 67,
   "metadata": {
    "collapsed": true
   },
   "outputs": [],
   "source": [
    "\n",
    "import cv2 as cv\n",
    "import numpy as np\n",
    "import matplotlib.pyplot as plt\n",
    "from dataPath import DATA_PATH\n",
    "%matplotlib inline\n",
    "\n",
    "import matplotlib\n",
    "\n",
    "matplotlib.rcParams['figure.figsize'] = (10.0, 10.0)\n",
    "matplotlib.rcParams['image.cmap'] = 'gray'"
   ]
  },
  {
   "cell_type": "code",
   "execution_count": 68,
   "outputs": [],
   "source": [
    "cap = cv.VideoCapture(DATA_PATH + \"videos/video.mp4\")\n",
    "n_frames = int(cap.get(cv.CAP_PROP_FRAME_COUNT))\n",
    "\n",
    "w = int(cap.get(cv.CAP_PROP_FRAME_WIDTH))\n",
    "h = int(cap.get(cv.CAP_PROP_FRAME_HEIGHT))\n",
    "\n",
    "fps = int(cap.get(cv.CAP_PROP_FPS))\n",
    "\n",
    "out = cv.VideoWriter(\"video_out.avi\", cv.VideoWriter_fourcc(\"M\", \"J\", \"P\", \"G\"), fps, ((w * 2), h))\n",
    "\n",
    "SMOOTHING_RADIUS = 50"
   ],
   "metadata": {
    "collapsed": false,
    "pycharm": {
     "name": "#%%\n"
    }
   }
  },
  {
   "cell_type": "code",
   "execution_count": 69,
   "outputs": [],
   "source": [
    "_, prev = cap.read()\n",
    "prev_gray = cv.cvtColor(prev, cv.COLOR_BGR2GRAY)"
   ],
   "metadata": {
    "collapsed": false,
    "pycharm": {
     "name": "#%%\n"
    }
   }
  },
  {
   "cell_type": "code",
   "execution_count": 70,
   "outputs": [],
   "source": [
    "transforms = np.zeros((n_frames-1,3),np.float32)\n",
    "\n",
    "for i in range(n_frames - 2):\n",
    "    prev_pts = cv.goodFeaturesToTrack(prev_gray, maxCorners=200, qualityLevel=0.01, minDistance=30, blockSize=3)\n",
    "\n",
    "    success, curr = cap.read()\n",
    "\n",
    "    if not success:\n",
    "        break\n",
    "\n",
    "    curr_gray = cv.cvtColor(curr,cv.COLOR_BGR2GRAY)\n",
    "    curr_pts, status, err = cv.calcOpticalFlowPyrLK(prev_gray,curr_gray,prev_pts,None)\n",
    "\n",
    "    assert prev_pts.shape == curr_pts.shape\n",
    "\n",
    "    idx = np.where(status==1)[0]\n",
    "    prev_pts = prev_pts[idx]\n",
    "    curr_pts = curr_pts[idx]\n",
    "\n",
    "    m = cv.estimateAffinePartial2D(prev_pts,curr_pts)\n",
    "\n",
    "    # Extract traslation\n",
    "    dx = m[0][0,2]\n",
    "    dy = m[0][1,2]\n",
    "\n",
    "    # Extract rotation angle\n",
    "    da = np.arctan2(m[0][1,0], m[0][0,0])\n",
    "\n",
    "    # Store transformation\n",
    "    transforms[i] = [dx,dy,da]\n",
    "\n",
    "    # Move to next frame\n",
    "    prev_gray = curr_gray\n",
    "\n",
    "    #print(\"Frame: \" + str(i) +  \"/\" + str(n_frames) + \" -  Tracked points : \" + str(len(prev_pts)))"
   ],
   "metadata": {
    "collapsed": false,
    "pycharm": {
     "name": "#%%\n"
    }
   }
  },
  {
   "cell_type": "code",
   "execution_count": 71,
   "outputs": [],
   "source": [
    "#trajectory = np.cumsum(transforms,axis=0)"
   ],
   "metadata": {
    "collapsed": false,
    "pycharm": {
     "name": "#%%\n"
    }
   }
  },
  {
   "cell_type": "code",
   "execution_count": 72,
   "outputs": [],
   "source": [
    "def movingAverage(curve,radius):\n",
    "    window_size = 2 * radius + 1\n",
    "    f = np.ones(window_size)/window_size\n",
    "    curve_pad = np.lib.pad(curve,(radius,radius),'edge')\n",
    "    curve_smoothed = np.convolve(curve_pad,f, mode= 'same')\n",
    "    curve_smoothed = curve_smoothed[radius:-radius]\n",
    "    return curve_smoothed"
   ],
   "metadata": {
    "collapsed": false,
    "pycharm": {
     "name": "#%%\n"
    }
   }
  },
  {
   "cell_type": "code",
   "execution_count": 73,
   "outputs": [],
   "source": [
    "def smooth(trajectory):\n",
    "    smoothed_trajectory = np.copy(trajectory)\n",
    "\n",
    "    for i in range(3):\n",
    "        smoothed_trajectory[:,i]=movingAverage(trajectory[:,i],radius=SMOOTHING_RADIUS)\n",
    "\n",
    "    return smoothed_trajectory"
   ],
   "metadata": {
    "collapsed": false,
    "pycharm": {
     "name": "#%%\n"
    }
   }
  },
  {
   "cell_type": "code",
   "execution_count": 74,
   "outputs": [],
   "source": [
    "trajectory = np.cumsum(transforms,axis=0)\n",
    "\n",
    "smooth_trajectory = smooth(trajectory)\n",
    "\n",
    "difference = smooth_trajectory - trajectory\n",
    "transforms_smooth = transforms + difference"
   ],
   "metadata": {
    "collapsed": false,
    "pycharm": {
     "name": "#%%\n"
    }
   }
  },
  {
   "cell_type": "code",
   "execution_count": 75,
   "outputs": [],
   "source": [
    "def fixBorder(frame):\n",
    "    s = frame.shape\n",
    "    T = cv.getRotationMatrix2D((s[1]/2,s[0]/2),0,1.04)\n",
    "    frame = cv.warpAffine(frame,T,(s[1],s[0]))\n",
    "    return frame"
   ],
   "metadata": {
    "collapsed": false,
    "pycharm": {
     "name": "#%%\n"
    }
   }
  },
  {
   "cell_type": "code",
   "execution_count": 76,
   "outputs": [
    {
     "data": {
      "text/plain": "True"
     },
     "execution_count": 76,
     "metadata": {},
     "output_type": "execute_result"
    }
   ],
   "source": [
    "cap.set(cv.CAP_PROP_POS_FRAMES,0)"
   ],
   "metadata": {
    "collapsed": false,
    "pycharm": {
     "name": "#%%\n"
    }
   }
  },
  {
   "cell_type": "code",
   "execution_count": 77,
   "outputs": [],
   "source": [
    "for i in range(n_frames-2):\n",
    "    success, frame = cap.read()\n",
    "\n",
    "    if not success:\n",
    "        break\n",
    "\n",
    "    dx = transforms_smooth[i,0]\n",
    "    dy = transforms_smooth[i,1]\n",
    "    da = transforms_smooth[i,2]\n",
    "\n",
    "    m = np.zeros((2,3),np.float32)\n",
    "    m[0,0] = np.cos(da)\n",
    "    m[0,1] = -np.sin(da)\n",
    "    m[1,0] = np.sin(da)\n",
    "    m[1,1] = np.cos(da)\n",
    "    m[0,2] = dx\n",
    "    m[1,2] = dy\n",
    "\n",
    "    frame_stabilized = cv.warpAffine(frame,m,(w,h))\n",
    "\n",
    "    frame_stabilized = fixBorder(frame_stabilized)\n",
    "\n",
    "    # Write the frame to the file\n",
    "    frame_out = cv.hconcat([frame, frame_stabilized])\n",
    "\n",
    "    # If the image is too big, resize it.\n",
    "    if(frame_out.shape[1] > 1920):\n",
    "        frame_out = cv.resize(frame_out, (w,h))\n",
    "    #cv2.imshow(\"Frame\",frame_out)\n",
    "    #cv2.waitKey(0)\n",
    "\n",
    "    out.write(frame_out)"
   ],
   "metadata": {
    "collapsed": false,
    "pycharm": {
     "name": "#%%\n"
    }
   }
  },
  {
   "cell_type": "code",
   "execution_count": 78,
   "outputs": [],
   "source": [
    "cv.destroyAllWindows()\n",
    "out.release()"
   ],
   "metadata": {
    "collapsed": false,
    "pycharm": {
     "name": "#%%\n"
    }
   }
  }
 ],
 "metadata": {
  "kernelspec": {
   "display_name": "Python 3",
   "language": "python",
   "name": "python3"
  },
  "language_info": {
   "codemirror_mode": {
    "name": "ipython",
    "version": 2
   },
   "file_extension": ".py",
   "mimetype": "text/x-python",
   "name": "python",
   "nbconvert_exporter": "python",
   "pygments_lexer": "ipython2",
   "version": "2.7.6"
  }
 },
 "nbformat": 4,
 "nbformat_minor": 0
}