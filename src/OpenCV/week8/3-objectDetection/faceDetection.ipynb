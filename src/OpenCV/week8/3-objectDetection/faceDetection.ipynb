{
 "cells": [
  {
   "cell_type": "code",
   "execution_count": 50,
   "metadata": {
    "collapsed": true
   },
   "outputs": [],
   "source": [
    "import cv2 as cv\n",
    "import matplotlib.pyplot as plt\n",
    "import numpy as np\n",
    "\n",
    "from dataPath import DATA_PATH\n",
    "%matplotlib inline\n",
    "\n",
    "import matplotlib\n",
    "\n",
    "matplotlib.rcParams['image.cmap'] = 'gray'\n",
    "matplotlib.rcParams['figure.figsize'] = (10, 10)"
   ]
  },
  {
   "cell_type": "code",
   "execution_count": 51,
   "outputs": [],
   "source": [
    "# Load the cascade classifier from the xml file.\n",
    "faceCascade = cv.CascadeClassifier(DATA_PATH + 'models/haarcascade_frontalface_default.xml')\n",
    "faceNeighborsMax = 10\n",
    "neighborStep = 1"
   ],
   "metadata": {
    "collapsed": false,
    "pycharm": {
     "name": "#%%\n"
    }
   }
  },
  {
   "cell_type": "code",
   "execution_count": 52,
   "outputs": [],
   "source": [
    "frame = cv.imread(DATA_PATH + \"images/hillary_clinton.jpg\")\n",
    "frameGray = cv.cvtColor(frame, cv.COLOR_BGR2GRAY)\n",
    "# frameGray = cv.equalizeHist(frameGray)\n",
    "\n",
    "# plt.imshow(frame[...,::-1]);plt.show()\n",
    "# plt.imshow(frameGray);plt.show()"
   ],
   "metadata": {
    "collapsed": false,
    "pycharm": {
     "name": "#%%\n"
    }
   }
  },
  {
   "cell_type": "code",
   "execution_count": 53,
   "outputs": [
    {
     "ename": "error",
     "evalue": "OpenCV(4.4.0) /private/var/folders/nz/vv4_9tw56nv9k3tkvyszvwg80000gn/T/pip-req-build-9ugsgs06/opencv/modules/objdetect/src/cascadedetect.cpp:1689: error: (-215:Assertion failed) !empty() in function 'detectMultiScale'\n",
     "output_type": "error",
     "traceback": [
      "\u001B[0;31m---------------------------------------------------------------------------\u001B[0m",
      "\u001B[0;31merror\u001B[0m                                     Traceback (most recent call last)",
      "\u001B[0;32m/var/folders/nj/yfdjzlhj4ng_ndb0wp1g5rcm0000gn/T/ipykernel_90545/3003593309.py\u001B[0m in \u001B[0;36m<module>\u001B[0;34m\u001B[0m\n\u001B[1;32m      3\u001B[0m \u001B[0mcount\u001B[0m \u001B[0;34m=\u001B[0m \u001B[0;36m1\u001B[0m\u001B[0;34m\u001B[0m\u001B[0;34m\u001B[0m\u001B[0m\n\u001B[1;32m      4\u001B[0m \u001B[0;32mfor\u001B[0m \u001B[0mneigh\u001B[0m \u001B[0;32min\u001B[0m \u001B[0mrange\u001B[0m\u001B[0;34m(\u001B[0m\u001B[0;36m1\u001B[0m\u001B[0;34m,\u001B[0m \u001B[0mfaceNeighborsMax\u001B[0m\u001B[0;34m,\u001B[0m \u001B[0mneighborStep\u001B[0m\u001B[0;34m)\u001B[0m\u001B[0;34m:\u001B[0m\u001B[0;34m\u001B[0m\u001B[0;34m\u001B[0m\u001B[0m\n\u001B[0;32m----> 5\u001B[0;31m     \u001B[0mfaces\u001B[0m \u001B[0;34m=\u001B[0m \u001B[0mfaceCascade\u001B[0m\u001B[0;34m.\u001B[0m\u001B[0mdetectMultiScale\u001B[0m\u001B[0;34m(\u001B[0m\u001B[0mframeGray\u001B[0m\u001B[0;34m,\u001B[0m \u001B[0mscaleFactor\u001B[0m\u001B[0;34m=\u001B[0m\u001B[0;36m1.1\u001B[0m\u001B[0;34m,\u001B[0m \u001B[0mminNeighbors\u001B[0m\u001B[0;34m=\u001B[0m\u001B[0mneigh\u001B[0m\u001B[0;34m)\u001B[0m\u001B[0;34m\u001B[0m\u001B[0;34m\u001B[0m\u001B[0m\n\u001B[0m\u001B[1;32m      6\u001B[0m     \u001B[0mframeClone\u001B[0m \u001B[0;34m=\u001B[0m \u001B[0mnp\u001B[0m\u001B[0;34m.\u001B[0m\u001B[0mcopy\u001B[0m\u001B[0;34m(\u001B[0m\u001B[0mframe\u001B[0m\u001B[0;34m)\u001B[0m\u001B[0;34m\u001B[0m\u001B[0;34m\u001B[0m\u001B[0m\n\u001B[1;32m      7\u001B[0m     \u001B[0;32mfor\u001B[0m \u001B[0;34m(\u001B[0m\u001B[0mx\u001B[0m\u001B[0;34m,\u001B[0m \u001B[0my\u001B[0m\u001B[0;34m,\u001B[0m \u001B[0mw\u001B[0m\u001B[0;34m,\u001B[0m \u001B[0mh\u001B[0m\u001B[0;34m)\u001B[0m \u001B[0;32min\u001B[0m \u001B[0mfaces\u001B[0m\u001B[0;34m:\u001B[0m\u001B[0;34m\u001B[0m\u001B[0;34m\u001B[0m\u001B[0m\n",
      "\u001B[0;31merror\u001B[0m: OpenCV(4.4.0) /private/var/folders/nz/vv4_9tw56nv9k3tkvyszvwg80000gn/T/pip-req-build-9ugsgs06/opencv/modules/objdetect/src/cascadedetect.cpp:1689: error: (-215:Assertion failed) !empty() in function 'detectMultiScale'\n"
     ]
    },
    {
     "data": {
      "text/plain": "<Figure size 1296x1296 with 0 Axes>"
     },
     "metadata": {},
     "output_type": "display_data"
    }
   ],
   "source": [
    "# Perform multi scale detection of faces\n",
    "plt.figure(figsize=(18,18))\n",
    "count = 1\n",
    "for neigh in range(1, faceNeighborsMax, neighborStep):\n",
    "    faces = faceCascade.detectMultiScale(frameGray, scaleFactor=1.1, minNeighbors=neigh)\n",
    "    frameClone = np.copy(frame)\n",
    "    for (x, y, w, h) in faces:\n",
    "        cv.rectangle(frameClone, (x, y),\n",
    "                      (x + w, y + h),\n",
    "                      (255, 0, 0),2)\n",
    "\n",
    "    cv.putText(frameClone,\n",
    "                \"# Neighbors = {}\".format(neigh), (10, 50),\n",
    "                cv.FONT_HERSHEY_SIMPLEX, 2, (0, 0, 255), 6)\n",
    "\n",
    "    plt.subplot(3,3,count)\n",
    "    plt.imshow(frameClone[:,:,::-1])\n",
    "    count += 1\n",
    "\n",
    "plt.show()"
   ],
   "metadata": {
    "collapsed": false,
    "pycharm": {
     "name": "#%%\n"
    }
   }
  },
  {
   "cell_type": "markdown",
   "source": [
    "Face and Smile Detection"
   ],
   "metadata": {
    "collapsed": false,
    "pycharm": {
     "name": "#%% md\n"
    }
   }
  },
  {
   "cell_type": "code",
   "execution_count": null,
   "outputs": [],
   "source": [
    "faceCascade = cv.CascadeClassifier(DATA_PATH+\"models/haarcascade_frontalface_default.xml\")\n",
    "smileCascade = cv.CascadeClassifier(DATA_PATH+\"models/haarcascade_smile.xml\")\n",
    "smileNeighborsMax = 90\n",
    "neighborStep = 10\n",
    "\n",
    "frame = cv.imread(DATA_PATH+\"images/hillary_clinton.jpg\")\n",
    "frameGray = cv.cvtColor(frame,cv.COLOR_BGR2GRAY)\n",
    "faces = faceCascade.detectMultiScale(frameGray, 1.4, 5)"
   ],
   "metadata": {
    "collapsed": false,
    "pycharm": {
     "name": "#%%\n"
    }
   }
  },
  {
   "cell_type": "code",
   "execution_count": null,
   "outputs": [],
   "source": [
    "# Get the face area from the detected face rectangle\n",
    "for (x, y, w, h) in faces:\n",
    "    cv.rectangle(frame, (x, y),\n",
    "                  (x + w, y + h),\n",
    "                  (255, 0, 0), 2)\n",
    "    faceRoiGray = frameGray[y: y + h, x: x + w]\n",
    "    faceRoiOriginal = frame[y: y + h, x: x + w]\n",
    "\n",
    "count = 1\n",
    "plt.figure(figsize=(18,18))\n",
    "# Detect the smile from the detected face area and display the image\n",
    "for neigh in range(1, smileNeighborsMax, neighborStep):\n",
    "    smile = smileCascade.detectMultiScale(faceRoiGray,\n",
    "                                          1.5, neigh)\n",
    "\n",
    "    frameClone = np.copy(frame)\n",
    "    faceRoiClone = frameClone[y: y + h, x: x + w]\n",
    "    for (xx, yy, ww, hh) in smile:\n",
    "        cv.rectangle(faceRoiClone, (xx, yy),\n",
    "                      (xx + ww, yy + hh),\n",
    "                      (0, 255, 0), 2)\n",
    "\n",
    "    cv.putText(frameClone,\n",
    "                \"# Neighbors = {}\".format(neigh),\n",
    "                (10, 50), cv.FONT_HERSHEY_SIMPLEX, 1,\n",
    "                (0, 0, 255), 4)\n",
    "    plt.subplot(3,3,count)\n",
    "    plt.imshow(frameClone[:,:,::-1])\n",
    "    count += 1\n",
    "\n",
    "plt.show()"
   ],
   "metadata": {
    "collapsed": false,
    "pycharm": {
     "name": "#%%\n"
    }
   }
  }
 ],
 "metadata": {
  "kernelspec": {
   "display_name": "Python 3",
   "language": "python",
   "name": "python3"
  },
  "language_info": {
   "codemirror_mode": {
    "name": "ipython",
    "version": 2
   },
   "file_extension": ".py",
   "mimetype": "text/x-python",
   "name": "python",
   "nbconvert_exporter": "python",
   "pygments_lexer": "ipython2",
   "version": "2.7.6"
  }
 },
 "nbformat": 4,
 "nbformat_minor": 0
}